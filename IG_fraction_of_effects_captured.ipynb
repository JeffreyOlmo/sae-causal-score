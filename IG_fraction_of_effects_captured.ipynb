{
 "cells": [
  {
   "cell_type": "code",
   "execution_count": 2,
   "metadata": {},
   "outputs": [
    {
     "name": "stdout",
     "output_type": "stream",
     "text": [
      "Loaded pretrained model gpt2-small into HookedTransformer\n",
      "Moving model to device:  cuda\n",
      "blocks.10.hook_resid_pre\n"
     ]
    }
   ],
   "source": [
    "import os\n",
    "os.environ[\"CUDA_VISIBLE_DEVICES\"]= \"4,5,6,7\"\n",
    "import torch\n",
    "from tqdm import tqdm\n",
    "import plotly.express as px\n",
    "\n",
    "torch.set_grad_enabled(False);\n",
    "\n",
    "# %%\n",
    "from transformer_lens import HookedTransformer\n",
    "from sae_lens import SAE\n",
    "\n",
    "# Choose a layer you want to focus on\n",
    "device= \"cuda:0\"\n",
    "model = HookedTransformer.from_pretrained(\"gpt2-small\").to('cuda')\n",
    "\n",
    "# Initialize SAE\n",
    "layer = 10\n",
    "sae, cfg_dict, _ = SAE.from_pretrained(\n",
    "    release=\"gpt2-small-res-jb\",\n",
    "    sae_id=f\"blocks.{layer}.hook_resid_pre\",\n",
    "    device= \"cuda:0\"\n",
    ")\n",
    "\n",
    "# get hook point\n",
    "hook_point = sae.cfg.hook_name\n",
    "print(hook_point)"
   ]
  },
  {
   "cell_type": "markdown",
   "metadata": {},
   "source": [
    "## Necessary Functions"
   ]
  },
  {
   "cell_type": "code",
   "execution_count": 3,
   "metadata": {},
   "outputs": [],
   "source": [
    "def get_top_k_active_directions(sae: SAE, activation: torch.Tensor, k: int):\n",
    "    latent = sae.encode(activation)  # [16, n_features]\n",
    "    top_k_values, top_k_indices = torch.topk(latent.abs(), k, dim=-1)  # Both: [16, 5]\n",
    "    # Gather top k directions for each item in the batch\n",
    "    top_k_directions = sae.W_enc[:, top_k_indices.flatten()].view(sae.W_enc.shape[0], k, -1)  # [768, 5, 16]\n",
    "    return top_k_directions, top_k_values"
   ]
  },
  {
   "cell_type": "code",
   "execution_count": 4,
   "metadata": {},
   "outputs": [],
   "source": [
    "def compute_subsequent_outputs_logits_only(model: torch.nn.Module, activation: torch.Tensor, layer_index: int) -> torch.Tensor:\n",
    "    # Ensure activation requires gradients\n",
    "    with torch.enable_grad():\n",
    "        if not activation.requires_grad:\n",
    "            activation.requires_grad_(True)\n",
    "        if activation.ndim == 2:\n",
    "            activation = activation.unsqueeze(1)       \n",
    "        current_activation = activation\n",
    "        for block in model.blocks[layer_index+1:]:\n",
    "            current_activation = block(current_activation)\n",
    "            \n",
    "        current_activation = model.ln_final(current_activation)\n",
    "        logits = model.unembed(current_activation)\n",
    "    return logits"
   ]
  },
  {
   "cell_type": "code",
   "execution_count": 5,
   "metadata": {},
   "outputs": [],
   "source": [
    "from typing import Union\n",
    "def compute_subsequent_outputs_logits_only(\n",
    "    model: Union[HookedTransformer, torch.nn.Module],\n",
    "    activation: torch.Tensor,\n",
    "    layer_index: int\n",
    ") -> torch.Tensor:\n",
    "    \"\"\"\n",
    "    Compute logits from an intermediate activation for various model architectures.\n",
    "\n",
    "    Args:\n",
    "    - model: The transformer model (HookedTransformer or nn.Module)\n",
    "    - activation: Intermediate activation tensor\n",
    "    - layer_index: Index of the current layer\n",
    "\n",
    "    Returns:\n",
    "    - logits: Output logits tensor\n",
    "    \"\"\"\n",
    "    with torch.enable_grad():\n",
    "        if not activation.requires_grad:\n",
    "            activation.requires_grad_(True)\n",
    "        \n",
    "        # Ensure activation has the correct shape\n",
    "        if activation.ndim == 2:\n",
    "            activation = activation.unsqueeze(1)\n",
    "        \n",
    "        current_activation = activation\n",
    "\n",
    "        # Process through remaining transformer blocks\n",
    "        try:\n",
    "            remaining_blocks = model.blocks[layer_index+1:]\n",
    "        except AttributeError:\n",
    "            # For models that might use a different attribute name\n",
    "            remaining_blocks = getattr(model, 'layers', getattr(model, 'transformer', model))[layer_index+1:]\n",
    "\n",
    "        for block in remaining_blocks:\n",
    "            current_activation = block(current_activation)\n",
    "        \n",
    "        # Apply final layer norm if it exists\n",
    "        if hasattr(model, 'ln_final'):\n",
    "            current_activation = model.ln_final(current_activation)\n",
    "        elif hasattr(model, 'norm'):\n",
    "            current_activation = model.norm(current_activation)\n",
    "        \n",
    "        # Compute logits\n",
    "        if hasattr(model, 'unembed'):\n",
    "            logits = model.unembed(current_activation)\n",
    "        elif hasattr(model, 'lm_head'):\n",
    "            logits = model.lm_head(current_activation)\n",
    "        else:\n",
    "            raise AttributeError(\"Model doesn't have a recognized output layer (unembed or lm_head)\")\n",
    "\n",
    "    return logits"
   ]
  },
  {
   "cell_type": "code",
   "execution_count": 6,
   "metadata": {},
   "outputs": [],
   "source": [
    "import torch\n",
    "from transformer_lens import HookedTransformer\n",
    "from typing import Tuple\n",
    "from torch import Tensor\n",
    "\n",
    "def integrated_gradients(\n",
    "    model: HookedTransformer,\n",
    "    input_ids: Tensor,\n",
    "    target_layer: str,\n",
    "    n_steps: int = 50,\n",
    "    largest_logit: bool = False,\n",
    ") -> Tuple[Tensor, Tensor]:\n",
    "    \"\"\"\n",
    "    Compute Integrated Gradients for a specific layer in the model.\n",
    "\n",
    "    Args:\n",
    "    - model: HookedTransformer model\n",
    "    - input_ids: Input token ids (shape: [batch_size, seq_len])\n",
    "    - target_layer: Name of the target layer (e.g., 'blocks.0.hook_resid_pre')\n",
    "    - n_steps: Number of steps for the integration approximation\n",
    "\n",
    "    Returns:\n",
    "    - Tuple of (activations, attributions) for the target layer\n",
    "    \"\"\"\n",
    "    device = input_ids.device\n",
    "    layer_index = int(target_layer.split('.')[1])\n",
    "\n",
    "    # Get baseline and input activations\n",
    "    with torch.no_grad():\n",
    "        _, cache = model.run_with_cache(input_ids)\n",
    "        input_activation = cache[target_layer]\n",
    "    \n",
    "    baseline_activation = torch.zeros_like(input_activation)\n",
    "    delta = (input_activation - baseline_activation) / n_steps\n",
    "    integrated_gradients = torch.zeros_like(input_activation)\n",
    "\n",
    "    for i in range(n_steps + 1):\n",
    "        with torch.enable_grad():\n",
    "            with torch.autograd.set_detect_anomaly(True):\n",
    "                interpolated_activation = baseline_activation + i * delta\n",
    "                interpolated_activation.requires_grad_(True)\n",
    "                logits = compute_subsequent_outputs_logits_only(model, interpolated_activation, layer_index)\n",
    "\n",
    "                if largest_logit:\n",
    "                    last_token_logits = logits[0, -1]\n",
    "                    max_logit_value, max_logit_index = torch.max(last_token_logits, dim=-1)\n",
    "                    \n",
    "                    # Compute gradient only for the highest logit\n",
    "                    max_logit_value.backward(retain_graph=True)\n",
    "                    gradient = interpolated_activation.grad\n",
    "\n",
    "                    integrated_gradients += gradient / n_steps\n",
    "                    interpolated_activation.grad = None  \n",
    "                else:\n",
    "                    loss = logits[0, -1, input_ids[0, -1]] \n",
    "                    loss.backward(create_graph=False)\n",
    "                    gradient = interpolated_activation.grad\n",
    "\n",
    "                    integrated_gradients += gradient / n_steps\n",
    "\n",
    "                if i == 49:\n",
    "                    probs = torch.nn.functional.softmax(logits[0, -1], dim=-1)\n",
    "                    _, predicted_token_id = torch.max(probs, dim=-1)\n",
    "                    predicted_token = model.tokenizer.decode([predicted_token_id.item()])\n",
    "                    print(f\"predited_token: {predicted_token}\")\n",
    "        attributions = integrated_gradients * (input_activation - baseline_activation)\n",
    "    return input_activation, attributions"
   ]
  },
  {
   "cell_type": "code",
   "execution_count": 7,
   "metadata": {},
   "outputs": [],
   "source": [
    "import torch\n",
    "from transformer_lens import HookedTransformer\n",
    "from sae_lens import SAE\n",
    "from typing import Tuple, List\n",
    "from torch import Tensor\n",
    "\n",
    "def compute_r_score(\n",
    "        model: HookedTransformer,\n",
    "        sae: SAE,\n",
    "        input_ids: Tensor,\n",
    "        target_layer: str,\n",
    "        k: int = 5,\n",
    "        n_steps: int = 50,\n",
    "        largest_logit: bool = False\n",
    "    ) -> Tuple[float, Tensor, Tensor, Tensor]:\n",
    "    \"\"\"\n",
    "    input ids: [batch, pos]\n",
    "    Batch has to be 1. \n",
    "    \"\"\"\n",
    "\n",
    "    # Compute Integrated Gradients\n",
    "    activations, ig_attributions = integrated_gradients(model, input_ids, target_layer, n_steps, largest_logit)\n",
    "    ig_attributions = ig_attributions.squeeze()\n",
    "\n",
    "    r_scores, sae_directions = compute_r_score_helper(sae,  activations, ig_attributions, k)\n",
    "    return r_scores, ig_attributions, sae_directions, activations\n",
    "\n",
    "def compute_r_score_helper(\n",
    "    sae: SAE,\n",
    "    activation: torch.Tensor,\n",
    "    attribution: torch.Tensor,\n",
    "    k: int = 5\n",
    ") -> torch.Tensor:\n",
    "    \"\"\"\n",
    "    Compute the R-score for multiple sets of vectors and attributions.\n",
    "    \n",
    "    Args:\n",
    "    activation: Tensor of shape [pos, vector_dim]\n",
    "    attribution: Tensor of shape [pos, vector_dim]\n",
    "    k: int\n",
    "    (where pos is the dimension of the number of tokens)\n",
    "\n",
    "    Returns:\n",
    "    r_scores: Tensor of shape [pos]\n",
    "    \"\"\"\n",
    "    epsilon: float = 1e-4\n",
    "    sae_directions, top_k_values = get_top_k_active_directions(sae, activation, k)\n",
    "    sae_directions = sae_directions.permute(2, 1, 0)\n",
    "\n",
    "    # Compute the projection matrix\n",
    "    V = sae_directions.transpose(1, 2)  # [batch_size, vector_dim, num_vectors]\n",
    "    VTV = torch.bmm(V.transpose(1, 2), V)  # [batch_size, num_vectors, num_vectors]\n",
    "    VTV_inv = torch.inverse(VTV + epsilon * torch.eye(VTV.size(1), device=VTV.device).unsqueeze(0))\n",
    "    P = torch.bmm(torch.bmm(V, VTV_inv), V.transpose(1, 2))  # [batch_size, vector_dim, vector_dim]\n",
    "    \n",
    "    # Compute the projection of attribution onto the span of directions\n",
    "    u = attribution.unsqueeze(-1)  # [batch_size, vector_dim, 1]\n",
    "    proj_u = torch.bmm(P, u)  # [batch_size, vector_dim, 1]\n",
    "    \n",
    "    \n",
    "    # Compute the R-score\n",
    "    r_scores = torch.sqrt(\n",
    "        (torch.bmm(u.transpose(1, 2), proj_u).squeeze(-1) + epsilon) /\n",
    "        (torch.sum(u**2, dim=1) + epsilon)\n",
    "    ).squeeze(-1)\n",
    "    print(f\"r_scores {r_scores}\")\n",
    "    return r_scores, sae_directions"
   ]
  },
  {
   "cell_type": "markdown",
   "metadata": {},
   "source": [
    "## Test Arbitrary Sentences"
   ]
  },
  {
   "cell_type": "code",
   "execution_count": 10,
   "metadata": {},
   "outputs": [],
   "source": [
    "import torch\n",
    "import matplotlib.pyplot as plt\n",
    "from IPython.display import display, HTML\n",
    "\n",
    "def convert_input_ids_to_char_tokens(model, input_ids):\n",
    "    tokenizer = model.tokenizer\n",
    "    \n",
    "    # Ensure input_ids is a flat list\n",
    "    if isinstance(input_ids, torch.Tensor):\n",
    "        input_ids = input_ids.tolist()\n",
    "    if isinstance(input_ids[0], list):\n",
    "        input_ids = [item for sublist in input_ids for item in sublist]\n",
    "    \n",
    "    # Convert ids to tokens\n",
    "    tokens = tokenizer.convert_ids_to_tokens(input_ids)\n",
    "    \n",
    "    # Convert tokens to characters\n",
    "    char_tokens = []\n",
    "    for token in tokens:\n",
    "        if token.startswith('Ġ'):  # Remove the 'Ġ' prefix for space\n",
    "            char_tokens.append(' ')\n",
    "            char_tokens.append(token[1:])\n",
    "        elif token.startswith('##'):  # Remove '##' for subwords\n",
    "            char_tokens.append(token[2:])\n",
    "        else:\n",
    "            char_tokens.append(token)\n",
    "    return char_tokens\n",
    "\n",
    "def print_r_score_details(model, sae, input_ids, r_scores, activation):\n",
    "    print()\n",
    "    tokens = convert_input_ids_to_char_tokens(model, input_ids)\n",
    "    color_code(tokens, r_scores)\n",
    "    last_token_pos = (input_ids != model.tokenizer.pad_token_id).sum() - 1\n",
    "    print(f\"Last token R score (updated with attention): {r_scores[last_token_pos].item():.4f}\")  \n",
    "    print(f\"Average R score over all tokens: {r_scores.mean().item():.4f}\")  \n",
    "    \n",
    "    # Print top 5 SAE directions\n",
    "    activation = activation.squeeze()[last_token_pos]\n",
    "    sae_activations = sae.encode(activation.squeeze().unsqueeze(0))\n",
    "    top_sae_indices = torch.topk(sae_activations.abs().squeeze(), 5).indices\n",
    "    print(\"\\nTop 5 SAE activations for last token:\")\n",
    "    for idx in top_sae_indices:\n",
    "        #attributions = F.cosine_similarity(get_top_k_active_directions(sae, activation, 5), attributions)\n",
    "        #weight = sae_activations.squeeze()[idx].item() / sae_activations.squeeze().sum()\n",
    "        print(f\"Feature {idx}: Activation: {sae_activations.squeeze()[idx].item():.4f}\")\n",
    "\n",
    "\n",
    "def color_code(tokens, r_scores):\n",
    "    # Convert the normalized scores to colors\n",
    "    cmap = plt.get_cmap('coolwarm')\n",
    "    r_scores_normalized = (r_scores - r_scores.min()) / (r_scores.max() - r_scores.min())\n",
    "    colors = []\n",
    "    score_idx = 0\n",
    "    for token in tokens:\n",
    "        if token.strip() == '':  # Skip spaces\n",
    "            colors.append((1, 1, 1, 1))  # White color for space\n",
    "        else:\n",
    "            colors.append(cmap(r_scores_normalized[score_idx].item()))\n",
    "            score_idx += 1\n",
    "    # Create HTML string with color-coded tokens\n",
    "    html_str = \"\"\n",
    "    for token, color in zip(tokens, colors):\n",
    "        color_hex = \"#{:02x}{:02x}{:02x}\".format(int(color[0] * 255), int(color[1] * 255), int(color[2] * 255))\n",
    "        html_str += f\"<span style='color:{color_hex}'>{token} </span>\"\n",
    "\n",
    "    # Display the HTML string\n",
    "    display(HTML(html_str))"
   ]
  },
  {
   "cell_type": "code",
   "execution_count": 11,
   "metadata": {},
   "outputs": [
    {
     "name": "stdout",
     "output_type": "stream",
     "text": [
      "r_scores tensor([0.1626, 0.0513, 0.0958, 0.0518, 0.1011, 0.0924, 0.1766, 0.0758, 0.1672,\n",
      "        0.0997, 0.0981, 0.0703, 0.1077, 0.0961, 0.1262, 0.1145],\n",
      "       device='cuda:0')\n",
      "\n"
     ]
    },
    {
     "data": {
      "text/html": [
       "<span style='color:#d95847'><|endoftext|> </span><span style='color:#3a4cc0'>V </span><span style='color:#b0cbfb'>in </span><span style='color:#ffffff'>  </span><span style='color:#3a4cc0'>is </span><span style='color:#ffffff'>  </span><span style='color:#bed3f5'>really </span><span style='color:#ffffff'>  </span><span style='color:#a8c5fd'>sad </span><span style='color:#ffffff'>  </span><span style='color:#b30326'>that </span><span style='color:#ffffff'>  </span><span style='color:#789bf7'>his </span><span style='color:#ffffff'>  </span><span style='color:#ce443c'>passport </span><span style='color:#ffffff'>  </span><span style='color:#bbd1f7'>is </span><span style='color:#ffffff'>  </span><span style='color:#b7cff9'>taking </span><span style='color:#ffffff'>  </span><span style='color:#698bef'>a </span><span style='color:#ffffff'>  </span><span style='color:#cfd9ea'>long </span><span style='color:#ffffff'>  </span><span style='color:#b2cbfb'>time </span><span style='color:#ffffff'>  </span><span style='color:#f1cab6'>to </span><span style='color:#ffffff'>  </span><span style='color:#dedbda'>arrive </span>"
      ],
      "text/plain": [
       "<IPython.core.display.HTML object>"
      ]
     },
     "metadata": {},
     "output_type": "display_data"
    },
    {
     "name": "stdout",
     "output_type": "stream",
     "text": [
      "Last token R score (updated with attention): 0.1262\n",
      "Average R score over all tokens: 0.1055\n",
      "\n",
      "Top 5 SAE activations for last token:\n",
      "Feature 19083: Activation: 54.2239\n",
      "Feature 11824: Activation: 12.2834\n",
      "Feature 20360: Activation: 8.9195\n",
      "Feature 18518: Activation: 7.2850\n",
      "Feature 13556: Activation: 6.4242\n",
      "\n",
      "--------------------------------------------------\n",
      "\n"
     ]
    }
   ],
   "source": [
    "target_layer = f\"blocks.{10}.hook_resid_pre\"\n",
    "\n",
    "\n",
    "sentence = \"Vin is really sad that his passport is taking a long time to arrive\"\n",
    "input_ids = model.to_tokens(sentence, prepend_bos=True)\n",
    "k = 5\n",
    "n_steps = 30\n",
    "r_scores, ig_attributions, sae_directions, activations = compute_r_score(model, sae, input_ids, target_layer, k, n_steps)\n",
    "# Find the position of the last non-padding token\n",
    "last_token_pos = (input_ids != model.tokenizer.pad_token_id).sum() - 1\n",
    "print_r_score_details(model, sae, input_ids, r_scores, activations)\n",
    "print(\"\\n\" + \"-\"*50 + \"\\n\")\n"
   ]
  },
  {
   "cell_type": "markdown",
   "metadata": {},
   "source": [
    "## Plot R over many sentences"
   ]
  },
  {
   "cell_type": "code",
   "execution_count": 25,
   "metadata": {},
   "outputs": [],
   "source": [
    "from datasets import load_dataset\n",
    "from torch.utils.data import DataLoader, Dataset\n",
    "import re\n",
    "import random\n",
    "\n",
    "\n",
    "class PromptDataset(Dataset):\n",
    "    def __init__(self, prompts, tokenizer, max_length=512):\n",
    "        self.encoded_prompts = tokenizer(prompts, padding=True, truncation=True, max_length=max_length, return_tensors=\"pt\")\n",
    "\n",
    "    def __len__(self):\n",
    "        return len(self.encoded_prompts['input_ids'])\n",
    "\n",
    "    def __getitem__(self, idx):\n",
    "        return {key: val[idx] for key, val in self.encoded_prompts.items()}\n",
    "    \n",
    "def create_dataset_loader(prompts, model, batch_size=3):\n",
    "    dataset = PromptDataset(prompts, model.tokenizer)\n",
    "    dataloader = DataLoader(dataset, batch_size=batch_size, shuffle=False)\n",
    "    return dataloader\n",
    "\n",
    "# Define a function to get short sentences\n",
    "def generate_sentences(min_length=15, max_length=25, num_sentences=500):\n",
    "    dataset = load_dataset('wikitext', 'wikitext-103-raw-v1', split='train', streaming=True)\n",
    "    sentences = []\n",
    "    \n",
    "    for example in dataset:\n",
    "        for sentence in example['text'].split('.'):\n",
    "            sentence = sentence.strip()\n",
    "            words = sentence.split()\n",
    "            if min_length <= len(words) <= max_length:\n",
    "                truncate_point = random.randint(1, len(words) - 1)  # Ensure at least one word remains\n",
    "                truncated_sentence = ' '.join(words[:truncate_point])\n",
    "                sentences.append(truncated_sentence)\n",
    "                \n",
    "                if len(sentences) >= num_sentences:\n",
    "                    random.shuffle(sentences)\n",
    "                    return sentences[:num_sentences]"
   ]
  },
  {
   "cell_type": "code",
   "execution_count": null,
   "metadata": {},
   "outputs": [],
   "source": [
    "import torch\n",
    "from transformer_lens import HookedTransformer\n",
    "from sae_lens import SAE\n",
    "from typing import List, Tuple\n",
    "from tqdm import tqdm\n",
    "import numpy as np\n",
    "import matplotlib.pyplot as plt\n",
    "from torch.utils.data import DataLoader\n",
    "\n",
    "def analyze_r_score_distribution(\n",
    "    model: HookedTransformer,\n",
    "    sae: SAE,\n",
    "    dataloader: DataLoader,\n",
    "    target_layer: str,\n",
    "    k: int = 5,\n",
    "    n_steps: int = 30,\n",
    "    num_samples: int = 100\n",
    ") -> Tuple[List[float], List[str]]:\n",
    "    \"\"\"\n",
    "    Compute R scores for multiple inputs and analyze the distribution.\n",
    "\n",
    "    Args:\n",
    "    - model: HookedTransformer model\n",
    "    - sae: Sparse Autoencoder model\n",
    "    - dataloader: DataLoader containing input samples\n",
    "    - target_layer: Name of the target layer\n",
    "    - k: Number of top SAE directions to consider\n",
    "    - n_steps: Number of steps for the IG approximation\n",
    "    - num_samples: Number of samples to process\n",
    "\n",
    "    Returns:\n",
    "    - Tuple of (list of R scores, list of input texts)\n",
    "    \"\"\"\n",
    "    r_scores = []\n",
    "    r_scores_largest_logits = []\n",
    "    input_texts = []\n",
    "\n",
    "    for batch in tqdm(dataloader, total=num_samples):\n",
    "        input_ids = batch['input_ids'].to(device)\n",
    "        r_score_tensor, _, _, _ = compute_r_score(model, sae, input_ids, target_layer, 5, 30, False)\n",
    "        r_score_largest_logit_tensor, _, _, _ = compute_r_score(model, sae, input_ids, target_layer, 5, 30, True)\n",
    "\n",
    "        for item in [x.item() for x in r_score_tensor.squeeze()]:\n",
    "            r_scores.append(item)\n",
    "\n",
    "        for item in [x.item() for x in r_score_largest_logit_tensor.squeeze()]:\n",
    "            r_scores_largest_logits.append(item)\n",
    "\n",
    "    return r_scores, r_scores_largest_logits\n",
    "\n",
    "\n",
    "# Analyze R score distribution\n",
    "target_layer = f\"blocks.{layer}.hook_resid_pre\"\n",
    "prompts = generate_sentences()\n",
    "dataloader = create_dataset_loader(prompts, model, batch_size=1)\n",
    "r_scores, r_scores_largest_logits = analyze_r_score_distribution(model, sae, dataloader, target_layer, k=i)\n",
    "\n",
    "# Plot the distribution of R scores\n",
    "plt.figure(figsize=(12, 6))\n",
    "plt.hist(r_scores, alpha=0.5, bins=100, edgecolor='black', color='blue', label='r_scores')\n",
    "plt.hist(r_scores_largest_logits, alpha=0.5, bins=100, edgecolor='black', color='orange', label='r_scores_largest_logits')\n",
    "plt.title(\"Distribution of R Scores\")\n",
    "plt.xlabel(\"R Score\")\n",
    "plt.ylabel(\"Frequency\")\n",
    "plt.axvline(np.mean(r_scores), color='r', linestyle='dashed', linewidth=2, label=f'Mean all_logits: {np.mean(r_scores):.4f}')\n",
    "plt.axvline(np.median(r_scores), color='g', linestyle='dashed', linewidth=2, label=f'Mean largest_logits: {np.median(r_scores_largest_logits):.4f}')\n",
    "plt.legend()\n",
    "plt.show()\n",
    "\n",
    "# Print statistics\n",
    "print(f\"Mean R score: {np.mean(r_scores):.4f}\")\n",
    "print(f\"Median R score: {np.median(r_scores):.4f}\")\n",
    "print(f\"Min R score: {np.min(r_scores):.4f}\")\n",
    "print(f\"Max R score: {np.max(r_scores):.4f}\")\n",
    "\n",
    "# Print inputs with notable R scores\n",
    "num_examples = 5\n",
    "sorted_indices = np.argsort(r_scores)"
   ]
  },
  {
   "cell_type": "markdown",
   "metadata": {},
   "source": [
    "## Sentence Length vs R"
   ]
  },
  {
   "cell_type": "code",
   "execution_count": 40,
   "metadata": {},
   "outputs": [
    {
     "name": "stderr",
     "output_type": "stream",
     "text": [
      "Calculating R scores:   0%|          | 0/50 [00:00<?, ?it/s]"
     ]
    },
    {
     "name": "stdout",
     "output_type": "stream",
     "text": [
      "torch.Size([1, 13])\n"
     ]
    },
    {
     "name": "stderr",
     "output_type": "stream",
     "text": [
      "Calculating R scores:   0%|          | 0/50 [00:05<?, ?it/s]\n"
     ]
    },
    {
     "ename": "KeyboardInterrupt",
     "evalue": "",
     "output_type": "error",
     "traceback": [
      "\u001b[0;31m---------------------------------------------------------------------------\u001b[0m",
      "\u001b[0;31mKeyboardInterrupt\u001b[0m                         Traceback (most recent call last)",
      "Cell \u001b[0;32mIn[40], line 89\u001b[0m\n\u001b[1;32m     86\u001b[0m target_layer \u001b[38;5;241m=\u001b[39m \u001b[38;5;124mf\u001b[39m\u001b[38;5;124m\"\u001b[39m\u001b[38;5;124mblocks.\u001b[39m\u001b[38;5;132;01m{\u001b[39;00mlayer\u001b[38;5;132;01m}\u001b[39;00m\u001b[38;5;124m.hook_resid_pre\u001b[39m\u001b[38;5;124m\"\u001b[39m\n\u001b[1;32m     88\u001b[0m \u001b[38;5;66;03m# Run the test and plot the results\u001b[39;00m\n\u001b[0;32m---> 89\u001b[0m \u001b[43mplot_r_score_vs_length\u001b[49m\u001b[43m(\u001b[49m\u001b[43mmodel\u001b[49m\u001b[43m,\u001b[49m\u001b[43m \u001b[49m\u001b[43msae\u001b[49m\u001b[43m,\u001b[49m\u001b[43m \u001b[49m\u001b[43mtarget_layer\u001b[49m\u001b[43m)\u001b[49m\n",
      "Cell \u001b[0;32mIn[40], line 47\u001b[0m, in \u001b[0;36mplot_r_score_vs_length\u001b[0;34m(model, sae, target_layer)\u001b[0m\n\u001b[1;32m     45\u001b[0m \u001b[38;5;28;01mfor\u001b[39;00m sentence \u001b[38;5;129;01min\u001b[39;00m tqdm(sentences, desc\u001b[38;5;241m=\u001b[39m\u001b[38;5;124m\"\u001b[39m\u001b[38;5;124mCalculating R scores\u001b[39m\u001b[38;5;124m\"\u001b[39m):\n\u001b[1;32m     46\u001b[0m     length \u001b[38;5;241m=\u001b[39m \u001b[38;5;28mlen\u001b[39m(sentence\u001b[38;5;241m.\u001b[39msplit())\n\u001b[0;32m---> 47\u001b[0m     r_score \u001b[38;5;241m=\u001b[39m \u001b[43mcalculate_r_score_for_sentence\u001b[49m\u001b[43m(\u001b[49m\u001b[43mmodel\u001b[49m\u001b[43m,\u001b[49m\u001b[43m \u001b[49m\u001b[43msae\u001b[49m\u001b[43m,\u001b[49m\u001b[43m \u001b[49m\u001b[43msentence\u001b[49m\u001b[43m,\u001b[49m\u001b[43m \u001b[49m\u001b[43mtarget_layer\u001b[49m\u001b[43m)\u001b[49m\n\u001b[1;32m     48\u001b[0m     lengths\u001b[38;5;241m.\u001b[39mappend(length)\n\u001b[1;32m     49\u001b[0m     r_scores\u001b[38;5;241m.\u001b[39mappend(r_score)\n",
      "Cell \u001b[0;32mIn[40], line 11\u001b[0m, in \u001b[0;36mcalculate_r_score_for_sentence\u001b[0;34m(model, sae, sentence, target_layer, k, n_steps)\u001b[0m\n\u001b[1;32m      9\u001b[0m input_ids \u001b[38;5;241m=\u001b[39m model\u001b[38;5;241m.\u001b[39mto_tokens(sentence, prepend_bos\u001b[38;5;241m=\u001b[39m\u001b[38;5;28;01mTrue\u001b[39;00m)\n\u001b[1;32m     10\u001b[0m \u001b[38;5;28mprint\u001b[39m(input_ids\u001b[38;5;241m.\u001b[39mshape)\n\u001b[0;32m---> 11\u001b[0m r_score, _, _,_ \u001b[38;5;241m=\u001b[39m \u001b[43mcompute_r_score\u001b[49m\u001b[43m(\u001b[49m\u001b[43mmodel\u001b[49m\u001b[43m,\u001b[49m\u001b[43m \u001b[49m\u001b[43msae\u001b[49m\u001b[43m,\u001b[49m\u001b[43m \u001b[49m\u001b[43minput_ids\u001b[49m\u001b[43m,\u001b[49m\u001b[43m \u001b[49m\u001b[43mtarget_layer\u001b[49m\u001b[43m,\u001b[49m\u001b[43m \u001b[49m\u001b[43mk\u001b[49m\u001b[43m,\u001b[49m\u001b[43m \u001b[49m\u001b[43mn_steps\u001b[49m\u001b[43m)\u001b[49m\n\u001b[1;32m     12\u001b[0m \u001b[38;5;28;01mreturn\u001b[39;00m r_score\n",
      "Cell \u001b[0;32mIn[6], line 21\u001b[0m, in \u001b[0;36mcompute_r_score\u001b[0;34m(model, sae, input_ids, target_layer, k, n_steps, largest_logit)\u001b[0m\n\u001b[1;32m     16\u001b[0m \u001b[38;5;250m\u001b[39m\u001b[38;5;124;03m\"\"\"\u001b[39;00m\n\u001b[1;32m     17\u001b[0m \u001b[38;5;124;03minput ids: [batch, pos, vector dim]\u001b[39;00m\n\u001b[1;32m     18\u001b[0m \u001b[38;5;124;03m\"\"\"\u001b[39;00m\n\u001b[1;32m     20\u001b[0m \u001b[38;5;66;03m# Compute Integrated Gradients\u001b[39;00m\n\u001b[0;32m---> 21\u001b[0m activations, ig_attributions \u001b[38;5;241m=\u001b[39m \u001b[43mintegrated_gradients\u001b[49m\u001b[43m(\u001b[49m\u001b[43mmodel\u001b[49m\u001b[43m,\u001b[49m\u001b[43m \u001b[49m\u001b[43minput_ids\u001b[49m\u001b[43m,\u001b[49m\u001b[43m \u001b[49m\u001b[43mtarget_layer\u001b[49m\u001b[43m,\u001b[49m\u001b[43m \u001b[49m\u001b[43mn_steps\u001b[49m\u001b[43m,\u001b[49m\u001b[43m \u001b[49m\u001b[43mlargest_logit\u001b[49m\u001b[43m)\u001b[49m\n\u001b[1;32m     22\u001b[0m ig_attributions \u001b[38;5;241m=\u001b[39m ig_attributions\u001b[38;5;241m.\u001b[39msqueeze()\n\u001b[1;32m     24\u001b[0m r_scores, sae_directions \u001b[38;5;241m=\u001b[39m compute_r_score_helper(sae,  activations, ig_attributions, k)\n",
      "Cell \u001b[0;32mIn[25], line 42\u001b[0m, in \u001b[0;36mintegrated_gradients\u001b[0;34m(model, input_ids, target_layer, n_steps, largest_logit)\u001b[0m\n\u001b[1;32m     40\u001b[0m interpolated_activation \u001b[38;5;241m=\u001b[39m baseline_activation \u001b[38;5;241m+\u001b[39m i \u001b[38;5;241m*\u001b[39m delta\n\u001b[1;32m     41\u001b[0m interpolated_activation\u001b[38;5;241m.\u001b[39mrequires_grad_(\u001b[38;5;28;01mTrue\u001b[39;00m)\n\u001b[0;32m---> 42\u001b[0m logits \u001b[38;5;241m=\u001b[39m \u001b[43mcompute_subsequent_outputs_logits_only\u001b[49m\u001b[43m(\u001b[49m\u001b[43mmodel\u001b[49m\u001b[43m,\u001b[49m\u001b[43m \u001b[49m\u001b[43minterpolated_activation\u001b[49m\u001b[43m,\u001b[49m\u001b[43m \u001b[49m\u001b[43mlayer_index\u001b[49m\u001b[43m)\u001b[49m\n\u001b[1;32m     44\u001b[0m \u001b[38;5;28;01mif\u001b[39;00m largest_logit:\n\u001b[1;32m     45\u001b[0m     last_token_logits \u001b[38;5;241m=\u001b[39m logits[\u001b[38;5;241m0\u001b[39m, \u001b[38;5;241m-\u001b[39m\u001b[38;5;241m1\u001b[39m]\n",
      "Cell \u001b[0;32mIn[4], line 36\u001b[0m, in \u001b[0;36mcompute_subsequent_outputs_logits_only\u001b[0;34m(model, activation, layer_index)\u001b[0m\n\u001b[1;32m     33\u001b[0m     remaining_blocks \u001b[38;5;241m=\u001b[39m \u001b[38;5;28mgetattr\u001b[39m(model, \u001b[38;5;124m'\u001b[39m\u001b[38;5;124mlayers\u001b[39m\u001b[38;5;124m'\u001b[39m, \u001b[38;5;28mgetattr\u001b[39m(model, \u001b[38;5;124m'\u001b[39m\u001b[38;5;124mtransformer\u001b[39m\u001b[38;5;124m'\u001b[39m, model))[layer_index\u001b[38;5;241m+\u001b[39m\u001b[38;5;241m1\u001b[39m:]\n\u001b[1;32m     35\u001b[0m \u001b[38;5;28;01mfor\u001b[39;00m block \u001b[38;5;129;01min\u001b[39;00m remaining_blocks:\n\u001b[0;32m---> 36\u001b[0m     current_activation \u001b[38;5;241m=\u001b[39m \u001b[43mblock\u001b[49m\u001b[43m(\u001b[49m\u001b[43mcurrent_activation\u001b[49m\u001b[43m)\u001b[49m\n\u001b[1;32m     38\u001b[0m \u001b[38;5;66;03m# Apply final layer norm if it exists\u001b[39;00m\n\u001b[1;32m     39\u001b[0m \u001b[38;5;28;01mif\u001b[39;00m \u001b[38;5;28mhasattr\u001b[39m(model, \u001b[38;5;124m'\u001b[39m\u001b[38;5;124mln_final\u001b[39m\u001b[38;5;124m'\u001b[39m):\n",
      "File \u001b[0;32m/usr/local/lib/python3.10/dist-packages/torch/nn/modules/module.py:1518\u001b[0m, in \u001b[0;36mModule._wrapped_call_impl\u001b[0;34m(self, *args, **kwargs)\u001b[0m\n\u001b[1;32m   1516\u001b[0m     \u001b[38;5;28;01mreturn\u001b[39;00m \u001b[38;5;28mself\u001b[39m\u001b[38;5;241m.\u001b[39m_compiled_call_impl(\u001b[38;5;241m*\u001b[39margs, \u001b[38;5;241m*\u001b[39m\u001b[38;5;241m*\u001b[39mkwargs)  \u001b[38;5;66;03m# type: ignore[misc]\u001b[39;00m\n\u001b[1;32m   1517\u001b[0m \u001b[38;5;28;01melse\u001b[39;00m:\n\u001b[0;32m-> 1518\u001b[0m     \u001b[38;5;28;01mreturn\u001b[39;00m \u001b[38;5;28;43mself\u001b[39;49m\u001b[38;5;241;43m.\u001b[39;49m\u001b[43m_call_impl\u001b[49m\u001b[43m(\u001b[49m\u001b[38;5;241;43m*\u001b[39;49m\u001b[43margs\u001b[49m\u001b[43m,\u001b[49m\u001b[43m \u001b[49m\u001b[38;5;241;43m*\u001b[39;49m\u001b[38;5;241;43m*\u001b[39;49m\u001b[43mkwargs\u001b[49m\u001b[43m)\u001b[49m\n",
      "File \u001b[0;32m/usr/local/lib/python3.10/dist-packages/torch/nn/modules/module.py:1527\u001b[0m, in \u001b[0;36mModule._call_impl\u001b[0;34m(self, *args, **kwargs)\u001b[0m\n\u001b[1;32m   1522\u001b[0m \u001b[38;5;66;03m# If we don't have any hooks, we want to skip the rest of the logic in\u001b[39;00m\n\u001b[1;32m   1523\u001b[0m \u001b[38;5;66;03m# this function, and just call forward.\u001b[39;00m\n\u001b[1;32m   1524\u001b[0m \u001b[38;5;28;01mif\u001b[39;00m \u001b[38;5;129;01mnot\u001b[39;00m (\u001b[38;5;28mself\u001b[39m\u001b[38;5;241m.\u001b[39m_backward_hooks \u001b[38;5;129;01mor\u001b[39;00m \u001b[38;5;28mself\u001b[39m\u001b[38;5;241m.\u001b[39m_backward_pre_hooks \u001b[38;5;129;01mor\u001b[39;00m \u001b[38;5;28mself\u001b[39m\u001b[38;5;241m.\u001b[39m_forward_hooks \u001b[38;5;129;01mor\u001b[39;00m \u001b[38;5;28mself\u001b[39m\u001b[38;5;241m.\u001b[39m_forward_pre_hooks\n\u001b[1;32m   1525\u001b[0m         \u001b[38;5;129;01mor\u001b[39;00m _global_backward_pre_hooks \u001b[38;5;129;01mor\u001b[39;00m _global_backward_hooks\n\u001b[1;32m   1526\u001b[0m         \u001b[38;5;129;01mor\u001b[39;00m _global_forward_hooks \u001b[38;5;129;01mor\u001b[39;00m _global_forward_pre_hooks):\n\u001b[0;32m-> 1527\u001b[0m     \u001b[38;5;28;01mreturn\u001b[39;00m \u001b[43mforward_call\u001b[49m\u001b[43m(\u001b[49m\u001b[38;5;241;43m*\u001b[39;49m\u001b[43margs\u001b[49m\u001b[43m,\u001b[49m\u001b[43m \u001b[49m\u001b[38;5;241;43m*\u001b[39;49m\u001b[38;5;241;43m*\u001b[39;49m\u001b[43mkwargs\u001b[49m\u001b[43m)\u001b[49m\n\u001b[1;32m   1529\u001b[0m \u001b[38;5;28;01mtry\u001b[39;00m:\n\u001b[1;32m   1530\u001b[0m     result \u001b[38;5;241m=\u001b[39m \u001b[38;5;28;01mNone\u001b[39;00m\n",
      "File \u001b[0;32m/usr/local/lib/python3.10/dist-packages/transformer_lens/components.py:1585\u001b[0m, in \u001b[0;36mTransformerBlock.forward\u001b[0;34m(self, resid_pre, shortformer_pos_embed, past_kv_cache_entry, attention_mask)\u001b[0m\n\u001b[1;32m   1578\u001b[0m     key_input \u001b[38;5;241m=\u001b[39m attn_in\n\u001b[1;32m   1579\u001b[0m     value_input \u001b[38;5;241m=\u001b[39m attn_in\n\u001b[1;32m   1581\u001b[0m attn_out \u001b[38;5;241m=\u001b[39m \u001b[38;5;28mself\u001b[39m\u001b[38;5;241m.\u001b[39mhook_attn_out(\n\u001b[1;32m   1582\u001b[0m     \u001b[38;5;66;03m# hook the residual stream states that are used to calculate the\u001b[39;00m\n\u001b[1;32m   1583\u001b[0m     \u001b[38;5;66;03m# queries, keys and values, independently.\u001b[39;00m\n\u001b[1;32m   1584\u001b[0m     \u001b[38;5;66;03m# Then take the layer norm of these inputs, and pass these to the attention module.\u001b[39;00m\n\u001b[0;32m-> 1585\u001b[0m     \u001b[38;5;28;43mself\u001b[39;49m\u001b[38;5;241;43m.\u001b[39;49m\u001b[43mattn\u001b[49m\u001b[43m(\u001b[49m\n\u001b[1;32m   1586\u001b[0m \u001b[43m        \u001b[49m\u001b[43mquery_input\u001b[49m\u001b[38;5;241;43m=\u001b[39;49m\u001b[38;5;28;43mself\u001b[39;49m\u001b[38;5;241;43m.\u001b[39;49m\u001b[43mln1\u001b[49m\u001b[43m(\u001b[49m\u001b[43mquery_input\u001b[49m\u001b[43m)\u001b[49m\n\u001b[1;32m   1587\u001b[0m \u001b[43m        \u001b[49m\u001b[38;5;241;43m+\u001b[39;49m\u001b[43m \u001b[49m\u001b[43m(\u001b[49m\u001b[38;5;241;43m0.0\u001b[39;49m\u001b[43m \u001b[49m\u001b[38;5;28;43;01mif\u001b[39;49;00m\u001b[43m \u001b[49m\u001b[43mshortformer_pos_embed\u001b[49m\u001b[43m \u001b[49m\u001b[38;5;129;43;01mis\u001b[39;49;00m\u001b[43m \u001b[49m\u001b[38;5;28;43;01mNone\u001b[39;49;00m\u001b[43m \u001b[49m\u001b[38;5;28;43;01melse\u001b[39;49;00m\u001b[43m \u001b[49m\u001b[43mshortformer_pos_embed\u001b[49m\u001b[43m)\u001b[49m\u001b[43m,\u001b[49m\n\u001b[1;32m   1588\u001b[0m \u001b[43m        \u001b[49m\u001b[43mkey_input\u001b[49m\u001b[38;5;241;43m=\u001b[39;49m\u001b[38;5;28;43mself\u001b[39;49m\u001b[38;5;241;43m.\u001b[39;49m\u001b[43mln1\u001b[49m\u001b[43m(\u001b[49m\u001b[43mkey_input\u001b[49m\u001b[43m)\u001b[49m\n\u001b[1;32m   1589\u001b[0m \u001b[43m        \u001b[49m\u001b[38;5;241;43m+\u001b[39;49m\u001b[43m \u001b[49m\u001b[43m(\u001b[49m\u001b[38;5;241;43m0.0\u001b[39;49m\u001b[43m \u001b[49m\u001b[38;5;28;43;01mif\u001b[39;49;00m\u001b[43m \u001b[49m\u001b[43mshortformer_pos_embed\u001b[49m\u001b[43m \u001b[49m\u001b[38;5;129;43;01mis\u001b[39;49;00m\u001b[43m \u001b[49m\u001b[38;5;28;43;01mNone\u001b[39;49;00m\u001b[43m \u001b[49m\u001b[38;5;28;43;01melse\u001b[39;49;00m\u001b[43m \u001b[49m\u001b[43mshortformer_pos_embed\u001b[49m\u001b[43m)\u001b[49m\u001b[43m,\u001b[49m\n\u001b[1;32m   1590\u001b[0m \u001b[43m        \u001b[49m\u001b[43mvalue_input\u001b[49m\u001b[38;5;241;43m=\u001b[39;49m\u001b[38;5;28;43mself\u001b[39;49m\u001b[38;5;241;43m.\u001b[39;49m\u001b[43mln1\u001b[49m\u001b[43m(\u001b[49m\u001b[43mvalue_input\u001b[49m\u001b[43m)\u001b[49m\u001b[43m,\u001b[49m\n\u001b[1;32m   1591\u001b[0m \u001b[43m        \u001b[49m\u001b[43mpast_kv_cache_entry\u001b[49m\u001b[38;5;241;43m=\u001b[39;49m\u001b[43mpast_kv_cache_entry\u001b[49m\u001b[43m,\u001b[49m\n\u001b[1;32m   1592\u001b[0m \u001b[43m        \u001b[49m\u001b[43mattention_mask\u001b[49m\u001b[38;5;241;43m=\u001b[39;49m\u001b[43mattention_mask\u001b[49m\u001b[43m,\u001b[49m\n\u001b[1;32m   1593\u001b[0m \u001b[43m    \u001b[49m\u001b[43m)\u001b[49m\n\u001b[1;32m   1594\u001b[0m )  \u001b[38;5;66;03m# [batch, pos, d_model]\u001b[39;00m\n\u001b[1;32m   1595\u001b[0m \u001b[38;5;28;01mif\u001b[39;00m \u001b[38;5;129;01mnot\u001b[39;00m \u001b[38;5;28mself\u001b[39m\u001b[38;5;241m.\u001b[39mcfg\u001b[38;5;241m.\u001b[39mattn_only \u001b[38;5;129;01mand\u001b[39;00m \u001b[38;5;129;01mnot\u001b[39;00m \u001b[38;5;28mself\u001b[39m\u001b[38;5;241m.\u001b[39mcfg\u001b[38;5;241m.\u001b[39mparallel_attn_mlp:\n\u001b[1;32m   1596\u001b[0m     resid_mid \u001b[38;5;241m=\u001b[39m \u001b[38;5;28mself\u001b[39m\u001b[38;5;241m.\u001b[39mhook_resid_mid(resid_pre \u001b[38;5;241m+\u001b[39m attn_out)  \u001b[38;5;66;03m# [batch, pos, d_model]\u001b[39;00m\n",
      "File \u001b[0;32m/usr/local/lib/python3.10/dist-packages/torch/nn/modules/module.py:1518\u001b[0m, in \u001b[0;36mModule._wrapped_call_impl\u001b[0;34m(self, *args, **kwargs)\u001b[0m\n\u001b[1;32m   1516\u001b[0m     \u001b[38;5;28;01mreturn\u001b[39;00m \u001b[38;5;28mself\u001b[39m\u001b[38;5;241m.\u001b[39m_compiled_call_impl(\u001b[38;5;241m*\u001b[39margs, \u001b[38;5;241m*\u001b[39m\u001b[38;5;241m*\u001b[39mkwargs)  \u001b[38;5;66;03m# type: ignore[misc]\u001b[39;00m\n\u001b[1;32m   1517\u001b[0m \u001b[38;5;28;01melse\u001b[39;00m:\n\u001b[0;32m-> 1518\u001b[0m     \u001b[38;5;28;01mreturn\u001b[39;00m \u001b[38;5;28;43mself\u001b[39;49m\u001b[38;5;241;43m.\u001b[39;49m\u001b[43m_call_impl\u001b[49m\u001b[43m(\u001b[49m\u001b[38;5;241;43m*\u001b[39;49m\u001b[43margs\u001b[49m\u001b[43m,\u001b[49m\u001b[43m \u001b[49m\u001b[38;5;241;43m*\u001b[39;49m\u001b[38;5;241;43m*\u001b[39;49m\u001b[43mkwargs\u001b[49m\u001b[43m)\u001b[49m\n",
      "File \u001b[0;32m/usr/local/lib/python3.10/dist-packages/torch/nn/modules/module.py:1527\u001b[0m, in \u001b[0;36mModule._call_impl\u001b[0;34m(self, *args, **kwargs)\u001b[0m\n\u001b[1;32m   1522\u001b[0m \u001b[38;5;66;03m# If we don't have any hooks, we want to skip the rest of the logic in\u001b[39;00m\n\u001b[1;32m   1523\u001b[0m \u001b[38;5;66;03m# this function, and just call forward.\u001b[39;00m\n\u001b[1;32m   1524\u001b[0m \u001b[38;5;28;01mif\u001b[39;00m \u001b[38;5;129;01mnot\u001b[39;00m (\u001b[38;5;28mself\u001b[39m\u001b[38;5;241m.\u001b[39m_backward_hooks \u001b[38;5;129;01mor\u001b[39;00m \u001b[38;5;28mself\u001b[39m\u001b[38;5;241m.\u001b[39m_backward_pre_hooks \u001b[38;5;129;01mor\u001b[39;00m \u001b[38;5;28mself\u001b[39m\u001b[38;5;241m.\u001b[39m_forward_hooks \u001b[38;5;129;01mor\u001b[39;00m \u001b[38;5;28mself\u001b[39m\u001b[38;5;241m.\u001b[39m_forward_pre_hooks\n\u001b[1;32m   1525\u001b[0m         \u001b[38;5;129;01mor\u001b[39;00m _global_backward_pre_hooks \u001b[38;5;129;01mor\u001b[39;00m _global_backward_hooks\n\u001b[1;32m   1526\u001b[0m         \u001b[38;5;129;01mor\u001b[39;00m _global_forward_hooks \u001b[38;5;129;01mor\u001b[39;00m _global_forward_pre_hooks):\n\u001b[0;32m-> 1527\u001b[0m     \u001b[38;5;28;01mreturn\u001b[39;00m \u001b[43mforward_call\u001b[49m\u001b[43m(\u001b[49m\u001b[38;5;241;43m*\u001b[39;49m\u001b[43margs\u001b[49m\u001b[43m,\u001b[49m\u001b[43m \u001b[49m\u001b[38;5;241;43m*\u001b[39;49m\u001b[38;5;241;43m*\u001b[39;49m\u001b[43mkwargs\u001b[49m\u001b[43m)\u001b[49m\n\u001b[1;32m   1529\u001b[0m \u001b[38;5;28;01mtry\u001b[39;00m:\n\u001b[1;32m   1530\u001b[0m     result \u001b[38;5;241m=\u001b[39m \u001b[38;5;28;01mNone\u001b[39;00m\n",
      "File \u001b[0;32m/usr/local/lib/python3.10/dist-packages/transformer_lens/components.py:535\u001b[0m, in \u001b[0;36mAbstractAttention.forward\u001b[0;34m(self, query_input, key_input, value_input, past_kv_cache_entry, additive_attention_mask, attention_mask)\u001b[0m\n\u001b[1;32m    508\u001b[0m \u001b[38;5;28;01mdef\u001b[39;00m \u001b[38;5;21mforward\u001b[39m(\n\u001b[1;32m    509\u001b[0m     \u001b[38;5;28mself\u001b[39m,\n\u001b[1;32m    510\u001b[0m     query_input: Union[\n\u001b[0;32m   (...)\u001b[0m\n\u001b[1;32m    526\u001b[0m     attention_mask: Optional[Int[torch\u001b[38;5;241m.\u001b[39mTensor, \u001b[38;5;124m\"\u001b[39m\u001b[38;5;124mbatch offset_pos\u001b[39m\u001b[38;5;124m\"\u001b[39m]] \u001b[38;5;241m=\u001b[39m \u001b[38;5;28;01mNone\u001b[39;00m,\n\u001b[1;32m    527\u001b[0m ) \u001b[38;5;241m-\u001b[39m\u001b[38;5;241m>\u001b[39m Float[torch\u001b[38;5;241m.\u001b[39mTensor, \u001b[38;5;124m\"\u001b[39m\u001b[38;5;124mbatch pos d_model\u001b[39m\u001b[38;5;124m\"\u001b[39m]:\n\u001b[1;32m    528\u001b[0m \u001b[38;5;250m    \u001b[39m\u001b[38;5;124;03m\"\"\"\u001b[39;00m\n\u001b[1;32m    529\u001b[0m \u001b[38;5;124;03m    shortformer_pos_embed is only used if self.cfg.positional_embedding_type == \"shortformer\", else defaults to None and is irrelevant. See HookedTransformerConfig for more details\u001b[39;00m\n\u001b[1;32m    530\u001b[0m \u001b[38;5;124;03m    past_kv_cache_entry is an optional entry of past keys and values for this layer, only relevant if generating text. Defaults to None\u001b[39;00m\n\u001b[1;32m    531\u001b[0m \u001b[38;5;124;03m    additive_attention_mask is an optional mask to add to the attention weights. Defaults to None.\u001b[39;00m\n\u001b[1;32m    532\u001b[0m \u001b[38;5;124;03m    attention_mask is the attention mask for padded tokens. Defaults to None.\u001b[39;00m\n\u001b[1;32m    533\u001b[0m \u001b[38;5;124;03m    \"\"\"\u001b[39;00m\n\u001b[0;32m--> 535\u001b[0m     q, k, v \u001b[38;5;241m=\u001b[39m \u001b[38;5;28;43mself\u001b[39;49m\u001b[38;5;241;43m.\u001b[39;49m\u001b[43mcalculate_qkv_matrices\u001b[49m\u001b[43m(\u001b[49m\u001b[43mquery_input\u001b[49m\u001b[43m,\u001b[49m\u001b[43m \u001b[49m\u001b[43mkey_input\u001b[49m\u001b[43m,\u001b[49m\u001b[43m \u001b[49m\u001b[43mvalue_input\u001b[49m\u001b[43m)\u001b[49m\n\u001b[1;32m    537\u001b[0m     \u001b[38;5;28;01mif\u001b[39;00m past_kv_cache_entry \u001b[38;5;129;01mis\u001b[39;00m \u001b[38;5;129;01mnot\u001b[39;00m \u001b[38;5;28;01mNone\u001b[39;00m:\n\u001b[1;32m    538\u001b[0m         \u001b[38;5;66;03m# Appends the new keys and values to the cached values, and automatically updates the cache\u001b[39;00m\n\u001b[1;32m    539\u001b[0m         kv_cache_pos_offset \u001b[38;5;241m=\u001b[39m past_kv_cache_entry\u001b[38;5;241m.\u001b[39mpast_keys\u001b[38;5;241m.\u001b[39msize(\u001b[38;5;241m1\u001b[39m)\n",
      "File \u001b[0;32m/usr/local/lib/python3.10/dist-packages/transformer_lens/components.py:732\u001b[0m, in \u001b[0;36mAbstractAttention.calculate_qkv_matrices\u001b[0;34m(self, query_input, key_input, value_input)\u001b[0m\n\u001b[1;32m    715\u001b[0m     v \u001b[38;5;241m=\u001b[39m \u001b[38;5;28mself\u001b[39m\u001b[38;5;241m.\u001b[39mhook_v(\n\u001b[1;32m    716\u001b[0m         \u001b[38;5;66;03m# call bitsandbytes method to dequantize and multiply\u001b[39;00m\n\u001b[1;32m    717\u001b[0m         bnb\u001b[38;5;241m.\u001b[39mmatmul_4bit(\n\u001b[0;32m   (...)\u001b[0m\n\u001b[1;32m    728\u001b[0m         \u001b[38;5;241m+\u001b[39m \u001b[38;5;28mself\u001b[39m\u001b[38;5;241m.\u001b[39mb_V\n\u001b[1;32m    729\u001b[0m     )\n\u001b[1;32m    730\u001b[0m \u001b[38;5;28;01melse\u001b[39;00m:\n\u001b[1;32m    731\u001b[0m     v \u001b[38;5;241m=\u001b[39m \u001b[38;5;28mself\u001b[39m\u001b[38;5;241m.\u001b[39mhook_v(\n\u001b[0;32m--> 732\u001b[0m         \u001b[43meinsum\u001b[49m\u001b[43m(\u001b[49m\n\u001b[1;32m    733\u001b[0m \u001b[43m            \u001b[49m\u001b[38;5;124;43mf\u001b[39;49m\u001b[38;5;124;43m\"\u001b[39;49m\u001b[38;5;132;43;01m{\u001b[39;49;00m\u001b[43mqkv_einops_string\u001b[49m\u001b[38;5;132;43;01m}\u001b[39;49;00m\u001b[38;5;124;43m, head_index d_model d_head \u001b[39;49m\u001b[38;5;130;43;01m\\\u001b[39;49;00m\n\u001b[1;32m    734\u001b[0m \u001b[38;5;124;43m            -> batch pos head_index d_head\u001b[39;49m\u001b[38;5;124;43m\"\u001b[39;49m\u001b[43m,\u001b[49m\n\u001b[1;32m    735\u001b[0m \u001b[43m            \u001b[49m\u001b[43mvalue_input\u001b[49m\u001b[43m,\u001b[49m\n\u001b[1;32m    736\u001b[0m \u001b[43m            \u001b[49m\u001b[38;5;28;43mself\u001b[39;49m\u001b[38;5;241;43m.\u001b[39;49m\u001b[43mW_V\u001b[49m\u001b[43m,\u001b[49m\n\u001b[1;32m    737\u001b[0m \u001b[43m        \u001b[49m\u001b[43m)\u001b[49m\n\u001b[1;32m    738\u001b[0m         \u001b[38;5;241m+\u001b[39m \u001b[38;5;28mself\u001b[39m\u001b[38;5;241m.\u001b[39mb_V\n\u001b[1;32m    739\u001b[0m     )  \u001b[38;5;66;03m# [batch, pos, head_index, d_head]\u001b[39;00m\n\u001b[1;32m    740\u001b[0m \u001b[38;5;28;01mreturn\u001b[39;00m q, k, v\n",
      "File \u001b[0;32m/usr/local/lib/python3.10/dist-packages/fancy_einsum/__init__.py:136\u001b[0m, in \u001b[0;36meinsum\u001b[0;34m(equation, *operands)\u001b[0m\n\u001b[1;32m    134\u001b[0m backend \u001b[38;5;241m=\u001b[39m get_backend(operands[\u001b[38;5;241m0\u001b[39m])\n\u001b[1;32m    135\u001b[0m new_equation \u001b[38;5;241m=\u001b[39m convert_equation(equation)\n\u001b[0;32m--> 136\u001b[0m \u001b[38;5;28;01mreturn\u001b[39;00m \u001b[43mbackend\u001b[49m\u001b[38;5;241;43m.\u001b[39;49m\u001b[43meinsum\u001b[49m\u001b[43m(\u001b[49m\u001b[43mnew_equation\u001b[49m\u001b[43m,\u001b[49m\u001b[43m \u001b[49m\u001b[38;5;241;43m*\u001b[39;49m\u001b[43moperands\u001b[49m\u001b[43m)\u001b[49m\n",
      "File \u001b[0;32m/usr/local/lib/python3.10/dist-packages/fancy_einsum/__init__.py:54\u001b[0m, in \u001b[0;36mTorchBackend.einsum\u001b[0;34m(self, equation, *operands)\u001b[0m\n\u001b[1;32m     53\u001b[0m \u001b[38;5;28;01mdef\u001b[39;00m \u001b[38;5;21meinsum\u001b[39m(\u001b[38;5;28mself\u001b[39m, equation, \u001b[38;5;241m*\u001b[39moperands):\n\u001b[0;32m---> 54\u001b[0m     \u001b[38;5;28;01mreturn\u001b[39;00m \u001b[38;5;28;43mself\u001b[39;49m\u001b[38;5;241;43m.\u001b[39;49m\u001b[43mtorch\u001b[49m\u001b[38;5;241;43m.\u001b[39;49m\u001b[43meinsum\u001b[49m\u001b[43m(\u001b[49m\u001b[43mequation\u001b[49m\u001b[43m,\u001b[49m\u001b[43m \u001b[49m\u001b[38;5;241;43m*\u001b[39;49m\u001b[43moperands\u001b[49m\u001b[43m)\u001b[49m\n",
      "File \u001b[0;32m/usr/local/lib/python3.10/dist-packages/torch/functional.py:377\u001b[0m, in \u001b[0;36meinsum\u001b[0;34m(*args)\u001b[0m\n\u001b[1;32m    372\u001b[0m     \u001b[38;5;28;01mreturn\u001b[39;00m einsum(equation, \u001b[38;5;241m*\u001b[39m_operands)\n\u001b[1;32m    374\u001b[0m \u001b[38;5;28;01mif\u001b[39;00m \u001b[38;5;28mlen\u001b[39m(operands) \u001b[38;5;241m<\u001b[39m\u001b[38;5;241m=\u001b[39m \u001b[38;5;241m2\u001b[39m \u001b[38;5;129;01mor\u001b[39;00m \u001b[38;5;129;01mnot\u001b[39;00m opt_einsum\u001b[38;5;241m.\u001b[39menabled:\n\u001b[1;32m    375\u001b[0m     \u001b[38;5;66;03m# the path for contracting 0 or 1 time(s) is already optimized\u001b[39;00m\n\u001b[1;32m    376\u001b[0m     \u001b[38;5;66;03m# or the user has disabled using opt_einsum\u001b[39;00m\n\u001b[0;32m--> 377\u001b[0m     \u001b[38;5;28;01mreturn\u001b[39;00m \u001b[43m_VF\u001b[49m\u001b[38;5;241;43m.\u001b[39;49m\u001b[43meinsum\u001b[49m\u001b[43m(\u001b[49m\u001b[43mequation\u001b[49m\u001b[43m,\u001b[49m\u001b[43m \u001b[49m\u001b[43moperands\u001b[49m\u001b[43m)\u001b[49m  \u001b[38;5;66;03m# type: ignore[attr-defined]\u001b[39;00m\n\u001b[1;32m    379\u001b[0m path \u001b[38;5;241m=\u001b[39m \u001b[38;5;28;01mNone\u001b[39;00m\n\u001b[1;32m    380\u001b[0m \u001b[38;5;28;01mif\u001b[39;00m opt_einsum\u001b[38;5;241m.\u001b[39mis_available():\n",
      "File \u001b[0;32m/usr/local/lib/python3.10/dist-packages/torch/fx/traceback.py:53\u001b[0m, in \u001b[0;36mformat_stack\u001b[0;34m()\u001b[0m\n\u001b[1;32m     50\u001b[0m     \u001b[38;5;28;01mreturn\u001b[39;00m [current_meta\u001b[38;5;241m.\u001b[39mget(\u001b[38;5;124m\"\u001b[39m\u001b[38;5;124mstack_trace\u001b[39m\u001b[38;5;124m\"\u001b[39m, \u001b[38;5;124m\"\u001b[39m\u001b[38;5;124m\"\u001b[39m)]\n\u001b[1;32m     51\u001b[0m \u001b[38;5;28;01melse\u001b[39;00m:\n\u001b[1;32m     52\u001b[0m     \u001b[38;5;66;03m# fallback to traceback.format_stack()\u001b[39;00m\n\u001b[0;32m---> 53\u001b[0m     \u001b[38;5;28;01mreturn\u001b[39;00m \u001b[43mtraceback\u001b[49m\u001b[38;5;241;43m.\u001b[39;49m\u001b[43mformat_list\u001b[49m\u001b[43m(\u001b[49m\u001b[43mtraceback\u001b[49m\u001b[38;5;241;43m.\u001b[39;49m\u001b[43mextract_stack\u001b[49m\u001b[43m(\u001b[49m\u001b[43m)\u001b[49m\u001b[43m[\u001b[49m\u001b[43m:\u001b[49m\u001b[38;5;241;43m-\u001b[39;49m\u001b[38;5;241;43m1\u001b[39;49m\u001b[43m]\u001b[49m\u001b[43m)\u001b[49m\n",
      "File \u001b[0;32m/usr/lib/python3.10/traceback.py:39\u001b[0m, in \u001b[0;36mformat_list\u001b[0;34m(extracted_list)\u001b[0m\n\u001b[1;32m     27\u001b[0m \u001b[38;5;28;01mdef\u001b[39;00m \u001b[38;5;21mformat_list\u001b[39m(extracted_list):\n\u001b[1;32m     28\u001b[0m \u001b[38;5;250m    \u001b[39m\u001b[38;5;124;03m\"\"\"Format a list of tuples or FrameSummary objects for printing.\u001b[39;00m\n\u001b[1;32m     29\u001b[0m \n\u001b[1;32m     30\u001b[0m \u001b[38;5;124;03m    Given a list of tuples or FrameSummary objects as returned by\u001b[39;00m\n\u001b[0;32m   (...)\u001b[0m\n\u001b[1;32m     37\u001b[0m \u001b[38;5;124;03m    whose source text line is not None.\u001b[39;00m\n\u001b[1;32m     38\u001b[0m \u001b[38;5;124;03m    \"\"\"\u001b[39;00m\n\u001b[0;32m---> 39\u001b[0m     \u001b[38;5;28;01mreturn\u001b[39;00m \u001b[43mStackSummary\u001b[49m\u001b[38;5;241;43m.\u001b[39;49m\u001b[43mfrom_list\u001b[49m\u001b[43m(\u001b[49m\u001b[43mextracted_list\u001b[49m\u001b[43m)\u001b[49m\u001b[38;5;241;43m.\u001b[39;49m\u001b[43mformat\u001b[49m\u001b[43m(\u001b[49m\u001b[43m)\u001b[49m\n",
      "File \u001b[0;32m/usr/lib/python3.10/traceback.py:443\u001b[0m, in \u001b[0;36mStackSummary.format\u001b[0;34m(self)\u001b[0m\n\u001b[1;32m    440\u001b[0m row\u001b[38;5;241m.\u001b[39mappend(\u001b[38;5;124m'\u001b[39m\u001b[38;5;124m  File \u001b[39m\u001b[38;5;124m\"\u001b[39m\u001b[38;5;132;01m{}\u001b[39;00m\u001b[38;5;124m\"\u001b[39m\u001b[38;5;124m, line \u001b[39m\u001b[38;5;132;01m{}\u001b[39;00m\u001b[38;5;124m, in \u001b[39m\u001b[38;5;132;01m{}\u001b[39;00m\u001b[38;5;130;01m\\n\u001b[39;00m\u001b[38;5;124m'\u001b[39m\u001b[38;5;241m.\u001b[39mformat(\n\u001b[1;32m    441\u001b[0m     frame\u001b[38;5;241m.\u001b[39mfilename, frame\u001b[38;5;241m.\u001b[39mlineno, frame\u001b[38;5;241m.\u001b[39mname))\n\u001b[1;32m    442\u001b[0m \u001b[38;5;28;01mif\u001b[39;00m frame\u001b[38;5;241m.\u001b[39mline:\n\u001b[0;32m--> 443\u001b[0m     row\u001b[38;5;241m.\u001b[39mappend(\u001b[38;5;124;43m'\u001b[39;49m\u001b[38;5;124;43m    \u001b[39;49m\u001b[38;5;132;43;01m{}\u001b[39;49;00m\u001b[38;5;130;43;01m\\n\u001b[39;49;00m\u001b[38;5;124;43m'\u001b[39;49m\u001b[38;5;241;43m.\u001b[39;49m\u001b[43mformat\u001b[49m\u001b[43m(\u001b[49m\u001b[43mframe\u001b[49m\u001b[38;5;241;43m.\u001b[39;49m\u001b[43mline\u001b[49m\u001b[38;5;241;43m.\u001b[39;49m\u001b[43mstrip\u001b[49m\u001b[43m(\u001b[49m\u001b[43m)\u001b[49m\u001b[43m)\u001b[49m)\n\u001b[1;32m    444\u001b[0m \u001b[38;5;28;01mif\u001b[39;00m frame\u001b[38;5;241m.\u001b[39mlocals:\n\u001b[1;32m    445\u001b[0m     \u001b[38;5;28;01mfor\u001b[39;00m name, value \u001b[38;5;129;01min\u001b[39;00m \u001b[38;5;28msorted\u001b[39m(frame\u001b[38;5;241m.\u001b[39mlocals\u001b[38;5;241m.\u001b[39mitems()):\n",
      "\u001b[0;31mKeyboardInterrupt\u001b[0m: "
     ]
    }
   ],
   "source": [
    "import torch\n",
    "from transformer_lens import HookedTransformer\n",
    "from sae_lens import SAE\n",
    "import matplotlib.pyplot as plt\n",
    "from tqdm import tqdm\n",
    "import numpy as np\n",
    "\n",
    "def calculate_r_score_for_sentence(model, sae, sentence, target_layer, k=5, n_steps=50):\n",
    "    input_ids = model.to_tokens(sentence, prepend_bos=True)\n",
    "    print(input_ids.shape)\n",
    "    r_score, _, _,_ = compute_r_score(model, sae, input_ids, target_layer, k, n_steps)\n",
    "    return r_score\n",
    "\n",
    "from datasets import load_dataset\n",
    "import random\n",
    "\n",
    "def generate_sentences_of_varying_length(min_length=5, max_length=200, num_sentences=50):\n",
    "    dataset = load_dataset('wikitext', 'wikitext-103-raw-v1', split='train', streaming=True)\n",
    "    sentences = []\n",
    "    \n",
    "    for example in dataset:\n",
    "        for sentence in example['text'].split('.'):\n",
    "            sentence = sentence.strip()\n",
    "            words = sentence.split()\n",
    "            if min_length <= len(words) <= max_length:\n",
    "                sentences.append(sentence)\n",
    "            if len(sentences) >= num_sentences:\n",
    "                break\n",
    "        if len(sentences) >= num_sentences:\n",
    "            break\n",
    "    \n",
    "    # If we don't have enough sentences, repeat the process\n",
    "    while len(sentences) < num_sentences:\n",
    "        sentences.extend(sentences[:num_sentences - len(sentences)])\n",
    "    \n",
    "    # Shuffle and trim to exactly num_sentences\n",
    "    random.shuffle(sentences)\n",
    "    return sentences[:num_sentences]\n",
    "\n",
    "def plot_r_score_vs_length(model, sae, target_layer):\n",
    "    sentences = generate_sentences_of_varying_length()\n",
    "    lengths = []\n",
    "    r_scores = []\n",
    "\n",
    "    for sentence in tqdm(sentences, desc=\"Calculating R scores\"):\n",
    "        length = len(sentence.split())\n",
    "        r_score = calculate_r_score_for_sentence(model, sae, sentence, target_layer)\n",
    "        lengths.append(length)\n",
    "        r_scores.append(r_score)\n",
    "\n",
    "    plt.figure(figsize=(12, 6))\n",
    "    plt.scatter(lengths, r_scores, alpha=0.6)\n",
    "    plt.xlabel('Sentence Length (words)')\n",
    "    plt.ylabel('R Score')\n",
    "    plt.title('R Score vs Sentence Length')\n",
    "    \n",
    "    # Add trend line\n",
    "    z = np.polyfit(lengths, r_scores, 1)\n",
    "    p = np.poly1d(z)\n",
    "    plt.plot(lengths, p(lengths), \"r--\", alpha=0.8)\n",
    "\n",
    "    # Add correlation coefficient\n",
    "    correlation = np.corrcoef(lengths, r_scores)[0, 1]\n",
    "    plt.text(0.05, 0.95, f'Correlation: {correlation:.2f}', transform=plt.gca().transAxes)\n",
    "\n",
    "    plt.tight_layout()\n",
    "    plt.show()\n",
    "\n",
    "    plt.figure(figsize=(12, 6))\n",
    "    plt.hist(r_scores, bins=50, edgecolor='black')\n",
    "    plt.title(\"Distribution of R Scores\")\n",
    "    plt.xlabel(\"R Score\")\n",
    "    plt.ylabel(\"Frequency\")\n",
    "    plt.axvline(np.mean(r_scores), color='r', linestyle='dashed', linewidth=2, label=f'Mean: {np.mean(r_scores):.4f}')\n",
    "    plt.axvline(np.median(r_scores), color='g', linestyle='dashed', linewidth=2, label=f'Median: {np.median(r_scores):.4f}')\n",
    "    plt.legend()\n",
    "    plt.show()\n",
    "\n",
    "# Set up the model and SAE\n",
    "layer = 8\n",
    "sae, cfg_dict, _ = SAE.from_pretrained(\n",
    "    release=\"gpt2-small-res-jb\",\n",
    "    sae_id=f\"blocks.{layer}.hook_resid_pre\",\n",
    "    device=\"cuda:0\"\n",
    ")\n",
    "target_layer = f\"blocks.{layer}.hook_resid_pre\"\n",
    "\n",
    "# Run the test and plot the results\n",
    "plot_r_score_vs_length(model, sae, target_layer)"
   ]
  },
  {
   "cell_type": "markdown",
   "metadata": {},
   "source": [
    "## Average R vs Layer Depth"
   ]
  },
  {
   "cell_type": "code",
   "execution_count": 44,
   "metadata": {},
   "outputs": [
    {
     "name": "stdout",
     "output_type": "stream",
     "text": [
      "Loaded pretrained model gpt2-small into HookedTransformer\n",
      "Moving model to device:  cuda\n"
     ]
    },
    {
     "name": "stderr",
     "output_type": "stream",
     "text": [
      "Processing layers:   0%|          | 0/12 [00:00<?, ?it/s]"
     ]
    },
    {
     "name": "stdout",
     "output_type": "stream",
     "text": [
      "torch.Size([1, 18])\n",
      "r_scores tensor([0.3023, 0.0635, 0.0825, 0.1249, 0.1045, 0.1350, 0.0554, 0.0983, 0.1817,\n",
      "        0.0740, 0.1382, 0.0997, 0.1073, 0.0569, 0.0538, 0.0758, 0.0299, 0.1447],\n",
      "       device='cuda:0')\n",
      "torch.Size([1, 13])\n"
     ]
    },
    {
     "name": "stderr",
     "output_type": "stream",
     "text": [
      "Processing layers:   8%|▊         | 1/12 [00:43<08:03, 43.93s/it]"
     ]
    },
    {
     "name": "stdout",
     "output_type": "stream",
     "text": [
      "r_scores tensor([0.1228, 0.1434, 0.1118, 0.0979, 0.1452, 0.1185, 0.1310, 0.1482, 0.0590,\n",
      "        0.1870, 0.1319, 0.0901, 0.0445], device='cuda:0')\n",
      "torch.Size([1, 18])\n",
      "r_scores tensor([0.0615, 0.2094, 0.1437, 0.0708, 0.0836, 0.0284, 0.0329, 0.0720, 0.0702,\n",
      "        0.1219, 0.0797, 0.1638, 0.0895, 0.0926, 0.1231, 0.1152, 0.0441, 0.0468],\n",
      "       device='cuda:0')\n",
      "torch.Size([1, 13])\n"
     ]
    },
    {
     "name": "stderr",
     "output_type": "stream",
     "text": [
      "Processing layers:  17%|█▋        | 2/12 [01:24<07:01, 42.14s/it]"
     ]
    },
    {
     "name": "stdout",
     "output_type": "stream",
     "text": [
      "r_scores tensor([0.1009, 0.0554, 0.1415, 0.1074, 0.0327, 0.0366, 0.0481, 0.1790, 0.0710,\n",
      "        0.1271, 0.0181, 0.1040, 0.0919], device='cuda:0')\n",
      "torch.Size([1, 18])\n",
      "r_scores tensor([0.1903, 0.1059, 0.0650, 0.0585, 0.1134, 0.1511, 0.0633, 0.0660, 0.0567,\n",
      "        0.0775, 0.1671, 0.0990, 0.0785, 0.0878, 0.0736, 0.0923, 0.0514, 0.0914],\n",
      "       device='cuda:0')\n",
      "torch.Size([1, 13])\n"
     ]
    },
    {
     "name": "stderr",
     "output_type": "stream",
     "text": [
      "Processing layers:  25%|██▌       | 3/12 [02:00<05:54, 39.37s/it]"
     ]
    },
    {
     "name": "stdout",
     "output_type": "stream",
     "text": [
      "r_scores tensor([0.0833, 0.0587, 0.1066, 0.0918, 0.0915, 0.0898, 0.0696, 0.1166, 0.0328,\n",
      "        0.0761, 0.0376, 0.0626, 0.0889], device='cuda:0')\n",
      "torch.Size([1, 18])\n",
      "r_scores tensor([0.3295, 0.0573, 0.0808, 0.0556, 0.0929, 0.1075, 0.1056, 0.0556, 0.1137,\n",
      "        0.1364, 0.1464, 0.0873, 0.1017, 0.0987, 0.0522, 0.1541, 0.0800, 0.2686],\n",
      "       device='cuda:0')\n",
      "torch.Size([1, 13])\n"
     ]
    },
    {
     "name": "stderr",
     "output_type": "stream",
     "text": [
      "Processing layers:  33%|███▎      | 4/12 [02:33<04:54, 36.76s/it]"
     ]
    },
    {
     "name": "stdout",
     "output_type": "stream",
     "text": [
      "r_scores tensor([0.1534, 0.1202, 0.0764, 0.0946, 0.0349, 0.1631, 0.0771, 0.1138, 0.0994,\n",
      "        0.1103, 0.2913, 0.1919, 0.0953], device='cuda:0')\n",
      "torch.Size([1, 18])\n",
      "r_scores tensor([0.3561, 0.1164, 0.0434, 0.1117, 0.0847, 0.1527, 0.0973, 0.0808, 0.0593,\n",
      "        0.1999, 0.0390, 0.0527, 0.1330, 0.0689, 0.1300, 0.0641, 0.1914, 0.1548],\n",
      "       device='cuda:0')\n",
      "torch.Size([1, 13])\n"
     ]
    },
    {
     "name": "stderr",
     "output_type": "stream",
     "text": [
      "Processing layers:  42%|████▏     | 5/12 [03:01<03:55, 33.68s/it]"
     ]
    },
    {
     "name": "stdout",
     "output_type": "stream",
     "text": [
      "r_scores tensor([0.3701, 0.1187, 0.0761, 0.0957, 0.0768, 0.0697, 0.0324, 0.0789, 0.0745,\n",
      "        0.0373, 0.2171, 0.0731, 0.1672], device='cuda:0')\n",
      "torch.Size([1, 18])\n",
      "r_scores tensor([0.3908, 0.0682, 0.0655, 0.0651, 0.0603, 0.0819, 0.1198, 0.0959, 0.1449,\n",
      "        0.0949, 0.0612, 0.0598, 0.1038, 0.0568, 0.0769, 0.0657, 0.1404, 0.0563],\n",
      "       device='cuda:0')\n",
      "torch.Size([1, 13])\n"
     ]
    },
    {
     "name": "stderr",
     "output_type": "stream",
     "text": [
      "Processing layers:  50%|█████     | 6/12 [03:26<03:03, 30.51s/it]"
     ]
    },
    {
     "name": "stdout",
     "output_type": "stream",
     "text": [
      "r_scores tensor([0.3184, 0.1018, 0.0659, 0.0759, 0.1052, 0.0930, 0.0989, 0.0513, 0.0921,\n",
      "        0.0880, 0.0970, 0.1037, 0.0916], device='cuda:0')\n",
      "torch.Size([1, 18])\n",
      "r_scores tensor([0.1404, 0.0596, 0.0504, 0.1045, 0.1226, 0.1326, 0.0526, 0.0535, 0.0843,\n",
      "        0.0612, 0.0891, 0.0467, 0.0509, 0.0375, 0.1726, 0.0971, 0.0694, 0.0653],\n",
      "       device='cuda:0')\n",
      "torch.Size([1, 13])\n"
     ]
    },
    {
     "name": "stderr",
     "output_type": "stream",
     "text": [
      "Processing layers:  58%|█████▊    | 7/12 [03:46<02:16, 27.27s/it]"
     ]
    },
    {
     "name": "stdout",
     "output_type": "stream",
     "text": [
      "r_scores tensor([0.1748, 0.0923, 0.0854, 0.1217, 0.1199, 0.0503, 0.0611, 0.0733, 0.0475,\n",
      "        0.0622, 0.0957, 0.1532, 0.1104], device='cuda:0')\n",
      "torch.Size([1, 18])\n",
      "r_scores tensor([0.3366, 0.1147, 0.0360, 0.0287, 0.0658, 0.0849, 0.0882, 0.0881, 0.1276,\n",
      "        0.1466, 0.0618, 0.0626, 0.0711, 0.0688, 0.0782, 0.1092, 0.0727, 0.0968],\n",
      "       device='cuda:0')\n",
      "torch.Size([1, 13])\n"
     ]
    },
    {
     "name": "stderr",
     "output_type": "stream",
     "text": [
      "Processing layers:  67%|██████▋   | 8/12 [04:03<01:35, 23.96s/it]"
     ]
    },
    {
     "name": "stdout",
     "output_type": "stream",
     "text": [
      "r_scores tensor([0.1609, 0.0698, 0.1075, 0.0577, 0.0750, 0.0479, 0.0876, 0.0682, 0.0820,\n",
      "        0.0772, 0.0782, 0.1069, 0.1170], device='cuda:0')\n",
      "torch.Size([1, 18])\n",
      "r_scores tensor([0.4225, 0.1336, 0.0848, 0.0881, 0.0884, 0.1049, 0.1238, 0.0435, 0.0901,\n",
      "        0.0434, 0.0759, 0.0586, 0.0821, 0.1129, 0.1241, 0.0976, 0.1533, 0.1136],\n",
      "       device='cuda:0')\n",
      "torch.Size([1, 13])\n"
     ]
    },
    {
     "name": "stderr",
     "output_type": "stream",
     "text": [
      "Processing layers:  75%|███████▌  | 9/12 [04:17<01:01, 20.65s/it]"
     ]
    },
    {
     "name": "stdout",
     "output_type": "stream",
     "text": [
      "r_scores tensor([0.1772, 0.0616, 0.0791, 0.0720, 0.0700, 0.0557, 0.0811, 0.0375, 0.0471,\n",
      "        0.0539, 0.0484, 0.0858, 0.0410], device='cuda:0')\n",
      "torch.Size([1, 18])\n",
      "r_scores tensor([0.2415, 0.1361, 0.0973, 0.0883, 0.0766, 0.0722, 0.1292, 0.0491, 0.1226,\n",
      "        0.0832, 0.0660, 0.0624, 0.0984, 0.1512, 0.1081, 0.0503, 0.0849, 0.0796],\n",
      "       device='cuda:0')\n",
      "torch.Size([1, 13])\n"
     ]
    },
    {
     "name": "stderr",
     "output_type": "stream",
     "text": [
      "Processing layers:  83%|████████▎ | 10/12 [04:26<00:34, 17.09s/it]"
     ]
    },
    {
     "name": "stdout",
     "output_type": "stream",
     "text": [
      "r_scores tensor([0.2890, 0.1043, 0.0261, 0.0851, 0.0854, 0.0421, 0.0480, 0.0441, 0.0600,\n",
      "        0.1246, 0.0738, 0.1238, 0.1108], device='cuda:0')\n",
      "torch.Size([1, 18])\n",
      "r_scores tensor([0.1313, 0.1791, 0.2001, 0.0519, 0.0868, 0.0986, 0.0953, 0.0638, 0.0961,\n",
      "        0.0785, 0.1021, 0.0736, 0.0818, 0.0673, 0.0929, 0.1191, 0.0615, 0.1144],\n",
      "       device='cuda:0')\n",
      "torch.Size([1, 13])\n"
     ]
    },
    {
     "name": "stderr",
     "output_type": "stream",
     "text": [
      "Processing layers:  92%|█████████▏| 11/12 [04:31<00:13, 13.47s/it]"
     ]
    },
    {
     "name": "stdout",
     "output_type": "stream",
     "text": [
      "r_scores tensor([0.0856, 0.1070, 0.0742, 0.0651, 0.0765, 0.0593, 0.1048, 0.0610, 0.1171,\n",
      "        0.1804, 0.0680, 0.0937, 0.1926], device='cuda:0')\n",
      "torch.Size([1, 18])\n",
      "r_scores tensor([1.0000, 1.0000, 1.0000, 1.0000, 1.0000, 1.0000, 1.0000, 1.0000, 1.0000,\n",
      "        1.0000, 1.0000, 1.0000, 1.0000, 1.0000, 1.0000, 1.0000, 1.0000, 0.0808],\n",
      "       device='cuda:0')\n",
      "torch.Size([1, 13])\n"
     ]
    },
    {
     "name": "stderr",
     "output_type": "stream",
     "text": [
      "Processing layers: 100%|██████████| 12/12 [04:32<00:00, 22.74s/it]"
     ]
    },
    {
     "name": "stdout",
     "output_type": "stream",
     "text": [
      "r_scores tensor([1.0000, 1.0000, 1.0000, 1.0000, 1.0000, 1.0000, 1.0000, 1.0000, 1.0000,\n",
      "        1.0000, 1.0000, 1.0000, 0.1924], device='cuda:0')\n"
     ]
    },
    {
     "name": "stderr",
     "output_type": "stream",
     "text": [
      "\n"
     ]
    },
    {
     "data": {
      "image/png": "[encoded data removed]",
      "text/plain": [
       "<Figure size 1200x600 with 1 Axes>"
      ]
     },
     "metadata": {},
     "output_type": "display_data"
    }
   ],
   "source": [
    "\n",
    "def generate_sentences(min_length=15, max_length=25, num_sentences=3):\n",
    "    dataset = load_dataset('wikitext', 'wikitext-103-raw-v1', split='train', streaming=True)\n",
    "    sentences = []\n",
    "    \n",
    "    for example in dataset:\n",
    "        for sentence in example['text'].split('.'):\n",
    "            sentence = sentence.strip()\n",
    "            words = sentence.split()\n",
    "            if min_length <= len(words) <= max_length:\n",
    "                truncate_point = random.randint(1, len(words) - 1)  # Ensure at least one word remains\n",
    "                truncated_sentence = ' '.join(words[:truncate_point])\n",
    "                sentences.append(truncated_sentence)\n",
    "                \n",
    "                if len(sentences) >= num_sentences:\n",
    "                    random.shuffle(sentences)\n",
    "                    return sentences[:num_sentences]\n",
    "    \n",
    "    # If we couldn't find enough sentences, shuffle and return what we have\n",
    "    random.shuffle(sentences)\n",
    "    return sentences[:num_sentences]\n",
    "\n",
    "def calculate_r_score_for_sentence(model, sae, sentence, target_layer, k=5, n_steps=30):\n",
    "    input_ids = model.to_tokens(sentence, prepend_bos=True)\n",
    "    print(input_ids.shape)\n",
    "    r_score, a, b, c = compute_r_score(model, sae, input_ids, target_layer, k, n_steps)\n",
    "    return r_score\n",
    "\n",
    "def plot_r_score_vs_layer():\n",
    "    model = HookedTransformer.from_pretrained(\"gpt2-small\").to('cuda')\n",
    "    num_layers = 12  # GPT-2 small has 12 layers\n",
    "    sentences = generate_sentences(num_sentences=2)\n",
    "    \n",
    "    avg_r_scores = []\n",
    "    \n",
    "    for layer in tqdm(range(num_layers), desc=\"Processing layers\"):\n",
    "        sae, _, _ = SAE.from_pretrained(\n",
    "            release=\"gpt2-small-res-jb\",\n",
    "            sae_id=f\"blocks.{layer}.hook_resid_pre\",\n",
    "            device=\"cuda:0\"\n",
    "        )\n",
    "        target_layer = f\"blocks.{layer}.hook_resid_pre\"\n",
    "        \n",
    "        layer_r_scores = []\n",
    "        for sentence in sentences:\n",
    "            r_score = calculate_r_score_for_sentence(model, sae, sentence, target_layer).mean().item()\n",
    "            layer_r_scores.append(r_score)\n",
    "        \n",
    "        avg_r_score = np.mean(layer_r_scores)\n",
    "        avg_r_scores.append(avg_r_score)\n",
    "    \n",
    "    plt.figure(figsize=(12, 6))\n",
    "    plt.plot(range(num_layers), avg_r_scores, marker='o')\n",
    "    plt.xlabel('Layer Number (gpt2-small-res-jb)')\n",
    "    plt.ylabel('Average R Score')\n",
    "    plt.title('Average R Score vs Layer Number')\n",
    "    plt.xticks(range(num_layers))\n",
    "    plt.grid(True, which='both', linestyle='--', linewidth=0.5)\n",
    "    \n",
    "    # Add error bars (standard deviation)\n",
    "    plt.errorbar(range(num_layers), avg_r_scores, yerr=np.std(avg_r_scores), fmt='none', capsize=5, color='r', alpha=0.5)\n",
    "    \n",
    "    plt.tight_layout()\n",
    "    plt.show()\n",
    "\n",
    "# Run the analysis and plot the results\n",
    "plot_r_score_vs_layer()"
   ]
  },
  {
   "cell_type": "markdown",
   "metadata": {},
   "source": [
    "## Average R vs Latent Space Size"
   ]
  },
  {
   "cell_type": "code",
   "execution_count": 47,
   "metadata": {},
   "outputs": [
    {
     "name": "stdout",
     "output_type": "stream",
     "text": [
      "Loaded pretrained model gpt2-small into HookedTransformer\n",
      "Moving model to device:  cuda\n"
     ]
    },
    {
     "name": "stderr",
     "output_type": "stream",
     "text": [
      "Processing 768 features:  10%|█         | 1/10 [00:11<01:47, 11.94s/it]"
     ]
    },
    {
     "name": "stdout",
     "output_type": "stream",
     "text": [
      "r_scores tensor([0.2291, 0.0920, 0.0356, 0.1110, 0.1004, 0.1237, 0.1342, 0.1151, 0.1328,\n",
      "        0.1733, 0.1786], device='cuda:0')\n"
     ]
    },
    {
     "name": "stderr",
     "output_type": "stream",
     "text": [
      "Processing 768 features:  20%|██        | 2/10 [00:23<01:33, 11.73s/it]"
     ]
    },
    {
     "name": "stdout",
     "output_type": "stream",
     "text": [
      "r_scores tensor([0.3861, 0.0635, 0.0774, 0.0332, 0.0719, 0.0556, 0.0815, 0.1087, 0.1097,\n",
      "        0.0469, 0.0877, 0.3080], device='cuda:0')\n"
     ]
    },
    {
     "name": "stderr",
     "output_type": "stream",
     "text": [
      "Processing 768 features:  30%|███       | 3/10 [00:34<01:19, 11.31s/it]"
     ]
    },
    {
     "name": "stdout",
     "output_type": "stream",
     "text": [
      "r_scores tensor([0.0709, 0.0807, 0.1262, 0.0607, 0.0913, 0.0851, 0.0603, 0.0537, 0.0569],\n",
      "       device='cuda:0')\n"
     ]
    },
    {
     "name": "stderr",
     "output_type": "stream",
     "text": [
      "Processing 768 features:  40%|████      | 4/10 [00:40<00:56,  9.39s/it]"
     ]
    },
    {
     "name": "stdout",
     "output_type": "stream",
     "text": [
      "r_scores tensor([0.2091, 0.0947, 0.0546, 0.0919, 0.0828, 0.0525, 0.0864, 0.0718, 0.0698,\n",
      "        0.1026, 0.0736, 0.0915, 0.0894, 0.0698, 0.1400, 0.0372, 0.0887, 0.0656],\n",
      "       device='cuda:0')\n"
     ]
    },
    {
     "name": "stderr",
     "output_type": "stream",
     "text": [
      "Processing 768 features:  50%|█████     | 5/10 [00:47<00:41,  8.26s/it]"
     ]
    },
    {
     "name": "stdout",
     "output_type": "stream",
     "text": [
      "r_scores tensor([0.4269, 0.1315, 0.1298, 0.1210, 0.0562, 0.0986, 0.0791, 0.1473, 0.0678,\n",
      "        0.1049, 0.0802, 0.1276], device='cuda:0')\n"
     ]
    },
    {
     "name": "stderr",
     "output_type": "stream",
     "text": [
      "Processing 768 features:  60%|██████    | 6/10 [00:53<00:30,  7.57s/it]"
     ]
    },
    {
     "name": "stdout",
     "output_type": "stream",
     "text": [
      "r_scores tensor([0.1915, 0.0687, 0.0854, 0.0645, 0.0636, 0.0280, 0.1024],\n",
      "       device='cuda:0')\n"
     ]
    },
    {
     "name": "stderr",
     "output_type": "stream",
     "text": [
      "Processing 768 features:  70%|███████   | 7/10 [00:59<00:21,  7.15s/it]"
     ]
    },
    {
     "name": "stdout",
     "output_type": "stream",
     "text": [
      "r_scores tensor([0.3791, 0.0820], device='cuda:0')\n"
     ]
    },
    {
     "name": "stderr",
     "output_type": "stream",
     "text": [
      "Processing 768 features:  80%|████████  | 8/10 [01:05<00:13,  6.87s/it]"
     ]
    },
    {
     "name": "stdout",
     "output_type": "stream",
     "text": [
      "r_scores tensor([0.1202, 0.0711, 0.0856, 0.0732, 0.0991, 0.1228, 0.0655, 0.1043, 0.0488,\n",
      "        0.0566, 0.0642, 0.1218, 0.0582, 0.2203, 0.1302], device='cuda:0')\n"
     ]
    },
    {
     "name": "stderr",
     "output_type": "stream",
     "text": [
      "Processing 768 features:  90%|█████████ | 9/10 [01:12<00:06,  6.72s/it]"
     ]
    },
    {
     "name": "stdout",
     "output_type": "stream",
     "text": [
      "r_scores tensor([0.3629, 0.0402, 0.1241, 0.0933, 0.0491, 0.1505], device='cuda:0')\n"
     ]
    },
    {
     "name": "stderr",
     "output_type": "stream",
     "text": [
      "Processing 768 features: 100%|██████████| 10/10 [01:18<00:00,  7.86s/it]"
     ]
    },
    {
     "name": "stdout",
     "output_type": "stream",
     "text": [
      "r_scores tensor([0.5365, 0.0831, 0.0722, 0.0489, 0.0688, 0.0678, 0.0382, 0.1200, 0.0516,\n",
      "        0.0629, 0.0783, 0.0870, 0.1839, 0.0598, 0.0785, 0.1260, 0.1075, 0.0987,\n",
      "        0.0499, 0.0485, 0.0933], device='cuda:0')\n"
     ]
    },
    {
     "name": "stderr",
     "output_type": "stream",
     "text": [
      "\n",
      "Processing 1536 features:  10%|█         | 1/10 [00:06<00:58,  6.54s/it]"
     ]
    },
    {
     "name": "stdout",
     "output_type": "stream",
     "text": [
      "r_scores tensor([0.2059, 0.0785, 0.1198, 0.0211, 0.1085, 0.1515, 0.1490, 0.0758, 0.1093,\n",
      "        0.1238, 0.1163], device='cuda:0')\n"
     ]
    },
    {
     "name": "stderr",
     "output_type": "stream",
     "text": [
      "Processing 1536 features:  20%|██        | 2/10 [00:13<00:52,  6.56s/it]"
     ]
    },
    {
     "name": "stdout",
     "output_type": "stream",
     "text": [
      "r_scores tensor([0.3834, 0.0581, 0.0532, 0.0692, 0.0619, 0.0548, 0.1044, 0.0419, 0.1075,\n",
      "        0.0868, 0.0813, 0.1771], device='cuda:0')\n"
     ]
    },
    {
     "name": "stderr",
     "output_type": "stream",
     "text": [
      "Processing 1536 features:  30%|███       | 3/10 [00:25<01:04,  9.26s/it]"
     ]
    },
    {
     "name": "stdout",
     "output_type": "stream",
     "text": [
      "r_scores tensor([0.2807, 0.0965, 0.1022, 0.0703, 0.1274, 0.0572, 0.0818, 0.1706, 0.0666],\n",
      "       device='cuda:0')\n"
     ]
    },
    {
     "name": "stderr",
     "output_type": "stream",
     "text": [
      "Processing 1536 features:  40%|████      | 4/10 [00:38<01:04, 10.75s/it]"
     ]
    },
    {
     "name": "stdout",
     "output_type": "stream",
     "text": [
      "r_scores tensor([0.1958, 0.0577, 0.0560, 0.0903, 0.0507, 0.0207, 0.0863, 0.0962, 0.1290,\n",
      "        0.1282, 0.1122, 0.0672, 0.0585, 0.0743, 0.1335, 0.0763, 0.0861, 0.2354],\n",
      "       device='cuda:0')\n"
     ]
    },
    {
     "name": "stderr",
     "output_type": "stream",
     "text": [
      "Processing 1536 features:  50%|█████     | 5/10 [00:51<00:56, 11.34s/it]"
     ]
    },
    {
     "name": "stdout",
     "output_type": "stream",
     "text": [
      "r_scores tensor([0.3248, 0.1101, 0.1141, 0.0725, 0.0531, 0.0655, 0.0401, 0.1276, 0.0635,\n",
      "        0.1249, 0.0552, 0.1199], device='cuda:0')\n"
     ]
    },
    {
     "name": "stderr",
     "output_type": "stream",
     "text": [
      "Processing 1536 features:  60%|██████    | 6/10 [01:02<00:46, 11.56s/it]"
     ]
    },
    {
     "name": "stdout",
     "output_type": "stream",
     "text": [
      "r_scores tensor([0.1073, 0.0637, 0.0865, 0.0486, 0.1119, 0.2763, 0.1092],\n",
      "       device='cuda:0')\n"
     ]
    },
    {
     "name": "stderr",
     "output_type": "stream",
     "text": [
      "Processing 1536 features:  70%|███████   | 7/10 [01:15<00:36, 12.01s/it]"
     ]
    },
    {
     "name": "stdout",
     "output_type": "stream",
     "text": [
      "r_scores tensor([0.4576, 0.1021], device='cuda:0')\n"
     ]
    },
    {
     "name": "stderr",
     "output_type": "stream",
     "text": [
      "Processing 1536 features:  80%|████████  | 8/10 [01:28<00:24, 12.33s/it]"
     ]
    },
    {
     "name": "stdout",
     "output_type": "stream",
     "text": [
      "r_scores tensor([0.3679, 0.0815, 0.1168, 0.0600, 0.1501, 0.1052, 0.0468, 0.0911, 0.0640,\n",
      "        0.0890, 0.0752, 0.1048, 0.0483, 0.2476, 0.1586], device='cuda:0')\n"
     ]
    },
    {
     "name": "stderr",
     "output_type": "stream",
     "text": [
      "Processing 1536 features:  90%|█████████ | 9/10 [01:41<00:12, 12.52s/it]"
     ]
    },
    {
     "name": "stdout",
     "output_type": "stream",
     "text": [
      "r_scores tensor([0.2828, 0.0271, 0.0729, 0.1222, 0.1098, 0.0494], device='cuda:0')\n"
     ]
    },
    {
     "name": "stderr",
     "output_type": "stream",
     "text": [
      "Processing 1536 features: 100%|██████████| 10/10 [01:48<00:00, 10.89s/it]"
     ]
    },
    {
     "name": "stdout",
     "output_type": "stream",
     "text": [
      "r_scores tensor([0.2669, 0.0566, 0.0558, 0.0939, 0.0657, 0.0424, 0.1104, 0.1081, 0.0897,\n",
      "        0.0756, 0.0914, 0.0876, 0.1533, 0.1025, 0.0575, 0.0891, 0.0572, 0.1128,\n",
      "        0.3367, 0.0915, 0.0679], device='cuda:0')\n"
     ]
    },
    {
     "name": "stderr",
     "output_type": "stream",
     "text": [
      "\n",
      "Processing 3072 features:  10%|█         | 1/10 [00:06<00:59,  6.60s/it]"
     ]
    },
    {
     "name": "stdout",
     "output_type": "stream",
     "text": [
      "r_scores tensor([0.0759, 0.0796, 0.1151, 0.0365, 0.0666, 0.1007, 0.0714, 0.0991, 0.1000,\n",
      "        0.0869, 0.1332], device='cuda:0')\n"
     ]
    },
    {
     "name": "stderr",
     "output_type": "stream",
     "text": [
      "Processing 3072 features:  20%|██        | 2/10 [00:13<00:52,  6.57s/it]"
     ]
    },
    {
     "name": "stdout",
     "output_type": "stream",
     "text": [
      "r_scores tensor([0.3769, 0.0768, 0.0451, 0.0262, 0.0754, 0.0795, 0.1001, 0.0690, 0.0673,\n",
      "        0.1658, 0.0640, 0.2207], device='cuda:0')\n"
     ]
    },
    {
     "name": "stderr",
     "output_type": "stream",
     "text": [
      "Processing 3072 features:  30%|███       | 3/10 [00:19<00:46,  6.61s/it]"
     ]
    },
    {
     "name": "stdout",
     "output_type": "stream",
     "text": [
      "r_scores tensor([0.2425, 0.0827, 0.0688, 0.0553, 0.1241, 0.0520, 0.0886, 0.1320, 0.0874],\n",
      "       device='cuda:0')\n"
     ]
    },
    {
     "name": "stderr",
     "output_type": "stream",
     "text": [
      "Processing 3072 features:  40%|████      | 4/10 [00:26<00:40,  6.78s/it]"
     ]
    },
    {
     "name": "stdout",
     "output_type": "stream",
     "text": [
      "r_scores tensor([0.1931, 0.0592, 0.0428, 0.0785, 0.0458, 0.0736, 0.0760, 0.0594, 0.0820,\n",
      "        0.1283, 0.0837, 0.1005, 0.0348, 0.0832, 0.1837, 0.0480, 0.0725, 0.0797],\n",
      "       device='cuda:0')\n"
     ]
    },
    {
     "name": "stderr",
     "output_type": "stream",
     "text": [
      "Processing 3072 features:  50%|█████     | 5/10 [00:33<00:33,  6.69s/it]"
     ]
    },
    {
     "name": "stdout",
     "output_type": "stream",
     "text": [
      "r_scores tensor([0.3465, 0.1039, 0.1031, 0.0442, 0.0782, 0.0374, 0.0782, 0.0747, 0.0983,\n",
      "        0.0778, 0.0638, 0.0751], device='cuda:0')\n"
     ]
    },
    {
     "name": "stderr",
     "output_type": "stream",
     "text": [
      "Processing 3072 features:  60%|██████    | 6/10 [00:39<00:26,  6.60s/it]"
     ]
    },
    {
     "name": "stdout",
     "output_type": "stream",
     "text": [
      "r_scores tensor([0.1140, 0.1188, 0.1085, 0.0603, 0.0672, 0.2023, 0.0883],\n",
      "       device='cuda:0')\n"
     ]
    },
    {
     "name": "stderr",
     "output_type": "stream",
     "text": [
      "Processing 3072 features:  70%|███████   | 7/10 [00:46<00:19,  6.53s/it]"
     ]
    },
    {
     "name": "stdout",
     "output_type": "stream",
     "text": [
      "r_scores tensor([0.3188, 0.1012], device='cuda:0')\n"
     ]
    },
    {
     "name": "stderr",
     "output_type": "stream",
     "text": [
      "Processing 3072 features:  80%|████████  | 8/10 [00:52<00:12,  6.49s/it]"
     ]
    },
    {
     "name": "stdout",
     "output_type": "stream",
     "text": [
      "r_scores tensor([0.2991, 0.0835, 0.0832, 0.0869, 0.1110, 0.0828, 0.0682, 0.0999, 0.1028,\n",
      "        0.0673, 0.0862, 0.0689, 0.0459, 0.0603, 0.0746], device='cuda:0')\n"
     ]
    },
    {
     "name": "stderr",
     "output_type": "stream",
     "text": [
      "Processing 3072 features:  90%|█████████ | 9/10 [00:58<00:06,  6.44s/it]"
     ]
    },
    {
     "name": "stdout",
     "output_type": "stream",
     "text": [
      "r_scores tensor([0.3078, 0.0421, 0.0982, 0.1032, 0.0988, 0.1297], device='cuda:0')\n"
     ]
    },
    {
     "name": "stderr",
     "output_type": "stream",
     "text": [
      "Processing 3072 features: 100%|██████████| 10/10 [01:05<00:00,  6.55s/it]"
     ]
    },
    {
     "name": "stdout",
     "output_type": "stream",
     "text": [
      "r_scores tensor([0.3081, 0.0555, 0.1223, 0.1060, 0.0812, 0.0550, 0.1002, 0.1358, 0.1005,\n",
      "        0.0724, 0.1000, 0.0575, 0.1549, 0.1448, 0.1205, 0.1184, 0.0987, 0.0591,\n",
      "        0.2625, 0.0871, 0.0687], device='cuda:0')\n"
     ]
    },
    {
     "name": "stderr",
     "output_type": "stream",
     "text": [
      "\n",
      "Processing 6144 features:  10%|█         | 1/10 [00:06<00:58,  6.52s/it]"
     ]
    },
    {
     "name": "stdout",
     "output_type": "stream",
     "text": [
      "r_scores tensor([0.1336, 0.0876, 0.0768, 0.0320, 0.0726, 0.0714, 0.1000, 0.1172, 0.0853,\n",
      "        0.0354, 0.1056], device='cuda:0')\n"
     ]
    },
    {
     "name": "stderr",
     "output_type": "stream",
     "text": [
      "Processing 6144 features:  20%|██        | 2/10 [00:12<00:51,  6.44s/it]"
     ]
    },
    {
     "name": "stdout",
     "output_type": "stream",
     "text": [
      "r_scores tensor([0.3586, 0.0736, 0.0403, 0.0325, 0.0687, 0.0476, 0.1046, 0.1099, 0.0825,\n",
      "        0.1217, 0.0761, 0.1105], device='cuda:0')\n"
     ]
    },
    {
     "name": "stderr",
     "output_type": "stream",
     "text": [
      "Processing 6144 features:  30%|███       | 3/10 [00:19<00:44,  6.38s/it]"
     ]
    },
    {
     "name": "stdout",
     "output_type": "stream",
     "text": [
      "r_scores tensor([0.1274, 0.0861, 0.1126, 0.0491, 0.0860, 0.1036, 0.0687, 0.0789, 0.0660],\n",
      "       device='cuda:0')\n"
     ]
    },
    {
     "name": "stderr",
     "output_type": "stream",
     "text": [
      "Processing 6144 features:  40%|████      | 4/10 [00:25<00:38,  6.39s/it]"
     ]
    },
    {
     "name": "stdout",
     "output_type": "stream",
     "text": [
      "r_scores tensor([0.0814, 0.1258, 0.0542, 0.0466, 0.0474, 0.0523, 0.0636, 0.0605, 0.0594,\n",
      "        0.0987, 0.0895, 0.0834, 0.0864, 0.0837, 0.0765, 0.1020, 0.0799, 0.1141],\n",
      "       device='cuda:0')\n"
     ]
    },
    {
     "name": "stderr",
     "output_type": "stream",
     "text": [
      "Processing 6144 features:  50%|█████     | 5/10 [00:32<00:32,  6.47s/it]"
     ]
    },
    {
     "name": "stdout",
     "output_type": "stream",
     "text": [
      "r_scores tensor([0.3598, 0.1221, 0.0778, 0.0491, 0.0640, 0.0240, 0.0451, 0.0917, 0.0562,\n",
      "        0.1171, 0.0856, 0.0738], device='cuda:0')\n"
     ]
    },
    {
     "name": "stderr",
     "output_type": "stream",
     "text": [
      "Processing 6144 features:  60%|██████    | 6/10 [00:38<00:26,  6.50s/it]"
     ]
    },
    {
     "name": "stdout",
     "output_type": "stream",
     "text": [
      "r_scores tensor([0.1669, 0.1262, 0.0732, 0.0436, 0.1082, 0.2160, 0.1017],\n",
      "       device='cuda:0')\n"
     ]
    },
    {
     "name": "stderr",
     "output_type": "stream",
     "text": [
      "Processing 6144 features:  70%|███████   | 7/10 [00:45<00:19,  6.47s/it]"
     ]
    },
    {
     "name": "stdout",
     "output_type": "stream",
     "text": [
      "r_scores tensor([0.4319, 0.1141], device='cuda:0')\n"
     ]
    },
    {
     "name": "stderr",
     "output_type": "stream",
     "text": [
      "Processing 6144 features:  80%|████████  | 8/10 [00:51<00:12,  6.48s/it]"
     ]
    },
    {
     "name": "stdout",
     "output_type": "stream",
     "text": [
      "r_scores tensor([0.1792, 0.1138, 0.0707, 0.0330, 0.1382, 0.1014, 0.0772, 0.0559, 0.0751,\n",
      "        0.0698, 0.0651, 0.1247, 0.0772, 0.0500, 0.0786], device='cuda:0')\n"
     ]
    },
    {
     "name": "stderr",
     "output_type": "stream",
     "text": [
      "Processing 6144 features:  90%|█████████ | 9/10 [00:58<00:06,  6.45s/it]"
     ]
    },
    {
     "name": "stdout",
     "output_type": "stream",
     "text": [
      "r_scores tensor([0.2290, 0.0552, 0.0812, 0.1049, 0.0821, 0.1021], device='cuda:0')\n"
     ]
    },
    {
     "name": "stderr",
     "output_type": "stream",
     "text": [
      "Processing 6144 features: 100%|██████████| 10/10 [01:04<00:00,  6.47s/it]"
     ]
    },
    {
     "name": "stdout",
     "output_type": "stream",
     "text": [
      "r_scores tensor([0.4016, 0.0457, 0.1592, 0.0917, 0.0605, 0.0821, 0.0620, 0.1186, 0.0703,\n",
      "        0.1026, 0.0956, 0.0547, 0.0637, 0.0513, 0.0669, 0.1378, 0.0758, 0.0890,\n",
      "        0.1770, 0.0470, 0.1728], device='cuda:0')\n"
     ]
    },
    {
     "name": "stderr",
     "output_type": "stream",
     "text": [
      "\n",
      "Processing 12288 features:  10%|█         | 1/10 [00:06<01:01,  6.83s/it]"
     ]
    },
    {
     "name": "stdout",
     "output_type": "stream",
     "text": [
      "r_scores tensor([0.0991, 0.1195, 0.0631, 0.0342, 0.0936, 0.1153, 0.0986, 0.0643, 0.1258,\n",
      "        0.0358, 0.0788], device='cuda:0')\n"
     ]
    },
    {
     "name": "stderr",
     "output_type": "stream",
     "text": [
      "Processing 12288 features:  20%|██        | 2/10 [00:13<00:52,  6.55s/it]"
     ]
    },
    {
     "name": "stdout",
     "output_type": "stream",
     "text": [
      "r_scores tensor([0.3539, 0.0479, 0.0354, 0.0551, 0.0585, 0.0814, 0.1050, 0.0846, 0.0713,\n",
      "        0.0773, 0.0508, 0.1141], device='cuda:0')\n"
     ]
    },
    {
     "name": "stderr",
     "output_type": "stream",
     "text": [
      "Processing 12288 features:  30%|███       | 3/10 [00:19<00:45,  6.49s/it]"
     ]
    },
    {
     "name": "stdout",
     "output_type": "stream",
     "text": [
      "r_scores tensor([0.0762, 0.0699, 0.0466, 0.0374, 0.0517, 0.1068, 0.1200, 0.1201, 0.0982],\n",
      "       device='cuda:0')\n"
     ]
    },
    {
     "name": "stderr",
     "output_type": "stream",
     "text": [
      "Processing 12288 features:  40%|████      | 4/10 [00:25<00:38,  6.45s/it]"
     ]
    },
    {
     "name": "stdout",
     "output_type": "stream",
     "text": [
      "r_scores tensor([0.1173, 0.0634, 0.0672, 0.0800, 0.1049, 0.0611, 0.0770, 0.0408, 0.0498,\n",
      "        0.0728, 0.0502, 0.0564, 0.0919, 0.0759, 0.1662, 0.0839, 0.0277, 0.0867],\n",
      "       device='cuda:0')\n"
     ]
    },
    {
     "name": "stderr",
     "output_type": "stream",
     "text": [
      "Processing 12288 features:  50%|█████     | 5/10 [00:32<00:32,  6.43s/it]"
     ]
    },
    {
     "name": "stdout",
     "output_type": "stream",
     "text": [
      "r_scores tensor([0.3613, 0.0772, 0.1215, 0.0841, 0.0603, 0.0306, 0.0687, 0.0973, 0.0793,\n",
      "        0.1455, 0.0924, 0.0547], device='cuda:0')\n"
     ]
    },
    {
     "name": "stderr",
     "output_type": "stream",
     "text": [
      "Processing 12288 features:  60%|██████    | 6/10 [00:38<00:25,  6.39s/it]"
     ]
    },
    {
     "name": "stdout",
     "output_type": "stream",
     "text": [
      "r_scores tensor([0.1600, 0.0686, 0.0971, 0.0758, 0.0749, 0.1626, 0.1300],\n",
      "       device='cuda:0')\n"
     ]
    },
    {
     "name": "stderr",
     "output_type": "stream",
     "text": [
      "Processing 12288 features:  70%|███████   | 7/10 [00:45<00:19,  6.36s/it]"
     ]
    },
    {
     "name": "stdout",
     "output_type": "stream",
     "text": [
      "r_scores tensor([0.3048, 0.0953], device='cuda:0')\n"
     ]
    },
    {
     "name": "stderr",
     "output_type": "stream",
     "text": [
      "Processing 12288 features:  80%|████████  | 8/10 [00:51<00:12,  6.36s/it]"
     ]
    },
    {
     "name": "stdout",
     "output_type": "stream",
     "text": [
      "r_scores tensor([0.1985, 0.1095, 0.1204, 0.0769, 0.1618, 0.1269, 0.0849, 0.1235, 0.0892,\n",
      "        0.0684, 0.0661, 0.0368, 0.0665, 0.0805, 0.0451], device='cuda:0')\n"
     ]
    },
    {
     "name": "stderr",
     "output_type": "stream",
     "text": [
      "Processing 12288 features:  90%|█████████ | 9/10 [00:57<00:06,  6.36s/it]"
     ]
    },
    {
     "name": "stdout",
     "output_type": "stream",
     "text": [
      "r_scores tensor([0.2058, 0.0457, 0.1206, 0.0664, 0.1420, 0.0648], device='cuda:0')\n"
     ]
    },
    {
     "name": "stderr",
     "output_type": "stream",
     "text": [
      "Processing 12288 features: 100%|██████████| 10/10 [01:04<00:00,  6.42s/it]"
     ]
    },
    {
     "name": "stdout",
     "output_type": "stream",
     "text": [
      "r_scores tensor([0.3702, 0.0800, 0.1005, 0.0400, 0.0421, 0.0606, 0.0637, 0.1143, 0.0820,\n",
      "        0.1221, 0.0733, 0.0683, 0.0882, 0.0505, 0.0496, 0.1397, 0.0624, 0.1099,\n",
      "        0.2401, 0.0859, 0.0627], device='cuda:0')\n"
     ]
    },
    {
     "name": "stderr",
     "output_type": "stream",
     "text": [
      "\n",
      "Processing 24576 features:  10%|█         | 1/10 [00:06<00:57,  6.36s/it]"
     ]
    },
    {
     "name": "stdout",
     "output_type": "stream",
     "text": [
      "r_scores tensor([0.1245, 0.1037, 0.0845, 0.0352, 0.0708, 0.1052, 0.1400, 0.0584, 0.0907,\n",
      "        0.0610, 0.0758], device='cuda:0')\n"
     ]
    },
    {
     "name": "stderr",
     "output_type": "stream",
     "text": [
      "Processing 24576 features:  20%|██        | 2/10 [00:12<00:50,  6.35s/it]"
     ]
    },
    {
     "name": "stdout",
     "output_type": "stream",
     "text": [
      "r_scores tensor([0.3348, 0.0875, 0.0344, 0.1285, 0.0438, 0.0742, 0.0944, 0.0715, 0.0570,\n",
      "        0.0882, 0.0748, 0.1307], device='cuda:0')\n"
     ]
    },
    {
     "name": "stderr",
     "output_type": "stream",
     "text": [
      "Processing 24576 features:  30%|███       | 3/10 [00:19<00:44,  6.35s/it]"
     ]
    },
    {
     "name": "stdout",
     "output_type": "stream",
     "text": [
      "r_scores tensor([0.1172, 0.0510, 0.1027, 0.0754, 0.0985, 0.1311, 0.0852, 0.0723, 0.1148],\n",
      "       device='cuda:0')\n"
     ]
    },
    {
     "name": "stderr",
     "output_type": "stream",
     "text": [
      "Processing 24576 features:  40%|████      | 4/10 [00:25<00:38,  6.36s/it]"
     ]
    },
    {
     "name": "stdout",
     "output_type": "stream",
     "text": [
      "r_scores tensor([0.1183, 0.0989, 0.0672, 0.0666, 0.0847, 0.0830, 0.0834, 0.0415, 0.0851,\n",
      "        0.0939, 0.0582, 0.0554, 0.0520, 0.0772, 0.0623, 0.0480, 0.0942, 0.0712],\n",
      "       device='cuda:0')\n"
     ]
    },
    {
     "name": "stderr",
     "output_type": "stream",
     "text": [
      "Processing 24576 features:  50%|█████     | 5/10 [00:31<00:31,  6.38s/it]"
     ]
    },
    {
     "name": "stdout",
     "output_type": "stream",
     "text": [
      "r_scores tensor([0.3634, 0.0961, 0.1099, 0.0622, 0.0649, 0.0610, 0.1127, 0.1045, 0.0944,\n",
      "        0.0916, 0.0991, 0.0573], device='cuda:0')\n"
     ]
    },
    {
     "name": "stderr",
     "output_type": "stream",
     "text": [
      "Processing 24576 features:  60%|██████    | 6/10 [00:38<00:25,  6.35s/it]"
     ]
    },
    {
     "name": "stdout",
     "output_type": "stream",
     "text": [
      "r_scores tensor([0.1410, 0.0701, 0.1448, 0.0449, 0.0683, 0.1644, 0.1801],\n",
      "       device='cuda:0')\n"
     ]
    },
    {
     "name": "stderr",
     "output_type": "stream",
     "text": [
      "Processing 24576 features:  70%|███████   | 7/10 [00:44<00:19,  6.34s/it]"
     ]
    },
    {
     "name": "stdout",
     "output_type": "stream",
     "text": [
      "r_scores tensor([0.2471, 0.0658], device='cuda:0')\n"
     ]
    },
    {
     "name": "stderr",
     "output_type": "stream",
     "text": [
      "Processing 24576 features:  80%|████████  | 8/10 [00:50<00:12,  6.33s/it]"
     ]
    },
    {
     "name": "stdout",
     "output_type": "stream",
     "text": [
      "r_scores tensor([0.1737, 0.1457, 0.0496, 0.0709, 0.1527, 0.0997, 0.0822, 0.0973, 0.1261,\n",
      "        0.0520, 0.0343, 0.0597, 0.0538, 0.0486, 0.1732], device='cuda:0')\n"
     ]
    },
    {
     "name": "stderr",
     "output_type": "stream",
     "text": [
      "Processing 24576 features:  90%|█████████ | 9/10 [00:57<00:06,  6.32s/it]"
     ]
    },
    {
     "name": "stdout",
     "output_type": "stream",
     "text": [
      "r_scores tensor([0.2453, 0.0931, 0.0818, 0.0806, 0.1041, 0.0899], device='cuda:0')\n"
     ]
    },
    {
     "name": "stderr",
     "output_type": "stream",
     "text": [
      "Processing 24576 features: 100%|██████████| 10/10 [01:03<00:00,  6.35s/it]"
     ]
    },
    {
     "name": "stdout",
     "output_type": "stream",
     "text": [
      "r_scores tensor([0.3620, 0.0937, 0.1081, 0.0455, 0.0567, 0.0574, 0.0839, 0.1558, 0.0438,\n",
      "        0.1063, 0.1372, 0.0730, 0.0495, 0.0869, 0.0878, 0.0902, 0.0796, 0.0801,\n",
      "        0.1579, 0.0851, 0.1570], device='cuda:0')\n"
     ]
    },
    {
     "name": "stderr",
     "output_type": "stream",
     "text": [
      "\n",
      "Processing 49152 features:  10%|█         | 1/10 [00:06<00:57,  6.34s/it]"
     ]
    },
    {
     "name": "stdout",
     "output_type": "stream",
     "text": [
      "r_scores tensor([0.1697, 0.0797, 0.0551, 0.0958, 0.0575, 0.1073, 0.0927, 0.0667, 0.0795,\n",
      "        0.0560, 0.0797], device='cuda:0')\n"
     ]
    },
    {
     "name": "stderr",
     "output_type": "stream",
     "text": [
      "Processing 49152 features:  20%|██        | 2/10 [00:12<00:50,  6.34s/it]"
     ]
    },
    {
     "name": "stdout",
     "output_type": "stream",
     "text": [
      "r_scores tensor([0.3411, 0.0493, 0.0286, 0.0555, 0.0412, 0.0656, 0.0761, 0.1019, 0.0470,\n",
      "        0.0634, 0.0441, 0.1133], device='cuda:0')\n"
     ]
    },
    {
     "name": "stderr",
     "output_type": "stream",
     "text": [
      "Processing 49152 features:  30%|███       | 3/10 [00:19<00:44,  6.34s/it]"
     ]
    },
    {
     "name": "stdout",
     "output_type": "stream",
     "text": [
      "r_scores tensor([0.0877, 0.0458, 0.1235, 0.0544, 0.0879, 0.0819, 0.0716, 0.1124, 0.0987],\n",
      "       device='cuda:0')\n"
     ]
    },
    {
     "name": "stderr",
     "output_type": "stream",
     "text": [
      "Processing 49152 features:  40%|████      | 4/10 [00:25<00:38,  6.35s/it]"
     ]
    },
    {
     "name": "stdout",
     "output_type": "stream",
     "text": [
      "r_scores tensor([0.1163, 0.0940, 0.1146, 0.0764, 0.0929, 0.0904, 0.0332, 0.0527, 0.0911,\n",
      "        0.0752, 0.1062, 0.0662, 0.0619, 0.0819, 0.0741, 0.0545, 0.0622, 0.1527],\n",
      "       device='cuda:0')\n"
     ]
    },
    {
     "name": "stderr",
     "output_type": "stream",
     "text": [
      "Processing 49152 features:  50%|█████     | 5/10 [00:31<00:31,  6.37s/it]"
     ]
    },
    {
     "name": "stdout",
     "output_type": "stream",
     "text": [
      "r_scores tensor([0.3686, 0.1264, 0.0799, 0.0663, 0.0990, 0.1177, 0.0966, 0.1024, 0.1021,\n",
      "        0.0779, 0.0857, 0.0564], device='cuda:0')\n"
     ]
    },
    {
     "name": "stderr",
     "output_type": "stream",
     "text": [
      "Processing 49152 features:  60%|██████    | 6/10 [00:38<00:25,  6.33s/it]"
     ]
    },
    {
     "name": "stdout",
     "output_type": "stream",
     "text": [
      "r_scores tensor([0.1299, 0.0758, 0.0988, 0.0837, 0.0900, 0.0896, 0.1930],\n",
      "       device='cuda:0')\n"
     ]
    },
    {
     "name": "stderr",
     "output_type": "stream",
     "text": [
      "Processing 49152 features:  70%|███████   | 7/10 [00:44<00:18,  6.31s/it]"
     ]
    },
    {
     "name": "stdout",
     "output_type": "stream",
     "text": [
      "r_scores tensor([0.2640, 0.0977], device='cuda:0')\n"
     ]
    },
    {
     "name": "stderr",
     "output_type": "stream",
     "text": [
      "Processing 49152 features:  80%|████████  | 8/10 [00:50<00:12,  6.32s/it]"
     ]
    },
    {
     "name": "stdout",
     "output_type": "stream",
     "text": [
      "r_scores tensor([0.2049, 0.0997, 0.0781, 0.0474, 0.0718, 0.1075, 0.0717, 0.0515, 0.1103,\n",
      "        0.0600, 0.0728, 0.0703, 0.0373, 0.1228, 0.0851], device='cuda:0')\n"
     ]
    },
    {
     "name": "stderr",
     "output_type": "stream",
     "text": [
      "Processing 49152 features:  90%|█████████ | 9/10 [00:56<00:06,  6.32s/it]"
     ]
    },
    {
     "name": "stdout",
     "output_type": "stream",
     "text": [
      "r_scores tensor([0.1915, 0.0762, 0.0751, 0.0792, 0.0626, 0.1283], device='cuda:0')\n"
     ]
    },
    {
     "name": "stderr",
     "output_type": "stream",
     "text": [
      "Processing 49152 features: 100%|██████████| 10/10 [01:03<00:00,  6.34s/it]"
     ]
    },
    {
     "name": "stdout",
     "output_type": "stream",
     "text": [
      "r_scores tensor([0.3714, 0.0770, 0.0832, 0.0986, 0.0615, 0.0739, 0.0739, 0.1702, 0.0537,\n",
      "        0.0689, 0.0541, 0.0569, 0.0561, 0.1050, 0.1237, 0.0826, 0.1066, 0.0829,\n",
      "        0.0965, 0.0487, 0.1013], device='cuda:0')\n"
     ]
    },
    {
     "name": "stderr",
     "output_type": "stream",
     "text": [
      "\n",
      "Processing 98304 features:  10%|█         | 1/10 [00:06<00:57,  6.39s/it]"
     ]
    },
    {
     "name": "stdout",
     "output_type": "stream",
     "text": [
      "r_scores tensor([0.0543, 0.1380, 0.0746, 0.0690, 0.0563, 0.0592, 0.0995, 0.0749, 0.0543,\n",
      "        0.0964, 0.0501], device='cuda:0')\n"
     ]
    },
    {
     "name": "stderr",
     "output_type": "stream",
     "text": [
      "Processing 98304 features:  20%|██        | 2/10 [00:12<00:50,  6.37s/it]"
     ]
    },
    {
     "name": "stdout",
     "output_type": "stream",
     "text": [
      "r_scores tensor([0.3601, 0.0337, 0.0582, 0.0325, 0.0818, 0.0569, 0.1039, 0.0829, 0.0583,\n",
      "        0.0283, 0.1000, 0.1565], device='cuda:0')\n"
     ]
    },
    {
     "name": "stderr",
     "output_type": "stream",
     "text": [
      "Processing 98304 features:  30%|███       | 3/10 [00:19<00:45,  6.46s/it]"
     ]
    },
    {
     "name": "stdout",
     "output_type": "stream",
     "text": [
      "r_scores tensor([0.0726, 0.0892, 0.1058, 0.0880, 0.0480, 0.0924, 0.0568, 0.1628, 0.0834],\n",
      "       device='cuda:0')\n"
     ]
    },
    {
     "name": "stderr",
     "output_type": "stream",
     "text": [
      "Processing 98304 features:  40%|████      | 4/10 [00:25<00:39,  6.52s/it]"
     ]
    },
    {
     "name": "stdout",
     "output_type": "stream",
     "text": [
      "r_scores tensor([0.0820, 0.1177, 0.0668, 0.0723, 0.0833, 0.1005, 0.0487, 0.1029, 0.1361,\n",
      "        0.1318, 0.0633, 0.0521, 0.1185, 0.1034, 0.1051, 0.0751, 0.1892, 0.1534],\n",
      "       device='cuda:0')\n"
     ]
    },
    {
     "name": "stderr",
     "output_type": "stream",
     "text": [
      "Processing 98304 features:  50%|█████     | 5/10 [00:32<00:32,  6.48s/it]"
     ]
    },
    {
     "name": "stdout",
     "output_type": "stream",
     "text": [
      "r_scores tensor([0.3671, 0.1517, 0.1093, 0.0690, 0.0993, 0.1072, 0.1081, 0.0871, 0.0865,\n",
      "        0.0792, 0.1260, 0.1231], device='cuda:0')\n"
     ]
    },
    {
     "name": "stderr",
     "output_type": "stream",
     "text": [
      "Processing 98304 features:  60%|██████    | 6/10 [00:38<00:25,  6.46s/it]"
     ]
    },
    {
     "name": "stdout",
     "output_type": "stream",
     "text": [
      "r_scores tensor([0.1333, 0.0740, 0.0785, 0.0559, 0.0514, 0.1449, 0.1766],\n",
      "       device='cuda:0')\n"
     ]
    },
    {
     "name": "stderr",
     "output_type": "stream",
     "text": [
      "Processing 98304 features:  70%|███████   | 7/10 [00:45<00:19,  6.42s/it]"
     ]
    },
    {
     "name": "stdout",
     "output_type": "stream",
     "text": [
      "r_scores tensor([0.2067, 0.0961], device='cuda:0')\n"
     ]
    },
    {
     "name": "stderr",
     "output_type": "stream",
     "text": [
      "Processing 98304 features:  80%|████████  | 8/10 [00:51<00:12,  6.44s/it]"
     ]
    },
    {
     "name": "stdout",
     "output_type": "stream",
     "text": [
      "r_scores tensor([0.2065, 0.1070, 0.0844, 0.0630, 0.1013, 0.0960, 0.0561, 0.0526, 0.1168,\n",
      "        0.0589, 0.0769, 0.0270, 0.0824, 0.0516, 0.0839], device='cuda:0')\n"
     ]
    },
    {
     "name": "stderr",
     "output_type": "stream",
     "text": [
      "Processing 98304 features:  90%|█████████ | 9/10 [00:58<00:06,  6.47s/it]"
     ]
    },
    {
     "name": "stdout",
     "output_type": "stream",
     "text": [
      "r_scores tensor([0.1975, 0.1164, 0.1860, 0.0614, 0.0973, 0.1735], device='cuda:0')\n"
     ]
    },
    {
     "name": "stderr",
     "output_type": "stream",
     "text": [
      "Processing 98304 features: 100%|██████████| 10/10 [01:04<00:00,  6.46s/it]"
     ]
    },
    {
     "name": "stdout",
     "output_type": "stream",
     "text": [
      "r_scores tensor([0.3955, 0.0763, 0.0555, 0.0502, 0.0907, 0.0200, 0.0646, 0.1101, 0.0656,\n",
      "        0.1028, 0.1019, 0.0760, 0.1777, 0.0622, 0.0925, 0.0641, 0.0857, 0.0474,\n",
      "        0.1448, 0.0860, 0.1176], device='cuda:0')\n"
     ]
    },
    {
     "name": "stderr",
     "output_type": "stream",
     "text": [
      "\n"
     ]
    },
    {
     "data": {
      "image/png": "[encoded data removed]",
      "text/plain": [
       "<Figure size 1200x600 with 1 Axes>"
      ]
     },
     "metadata": {},
     "output_type": "display_data"
    },
    {
     "name": "stdout",
     "output_type": "stream",
     "text": [
      "\n",
      "Results:\n",
      "SAE Size: 768, Avg R Score: 0.1196 ± 0.0421\n",
      "SAE Size: 1536, Avg R Score: 0.1273 ± 0.0513\n",
      "SAE Size: 3072, Avg R Score: 0.1146 ± 0.0343\n",
      "SAE Size: 6144, Avg R Score: 0.1142 ± 0.0543\n",
      "SAE Size: 12288, Avg R Score: 0.1057 ± 0.0333\n",
      "SAE Size: 24576, Avg R Score: 0.1054 ± 0.0210\n",
      "SAE Size: 49152, Avg R Score: 0.1029 ± 0.0281\n",
      "SAE Size: 98304, Avg R Score: 0.1062 ± 0.0233\n"
     ]
    }
   ],
   "source": [
    "import gc\n",
    "\n",
    "# SAE configurations for layer 8\n",
    "SAE_CONFIGS = [\n",
    "    (\"gpt2-small-res-jb-feature-splitting\", 768),\n",
    "    (\"gpt2-small-res-jb-feature-splitting\", 1536),\n",
    "    (\"gpt2-small-res-jb-feature-splitting\", 3072),\n",
    "    (\"gpt2-small-res-jb-feature-splitting\", 6144),\n",
    "    (\"gpt2-small-res-jb-feature-splitting\", 12288),\n",
    "    (\"gpt2-small-res-jb-feature-splitting\", 24576),\n",
    "    (\"gpt2-small-res-jb-feature-splitting\", 49152),\n",
    "    (\"gpt2-small-res-jb-feature-splitting\", 98304)\n",
    "]\n",
    "\n",
    "\n",
    "def generate_sentences(min_length=15, max_length=25, num_sentences=50):\n",
    "    dataset = load_dataset('wikitext', 'wikitext-103-raw-v1', split='train', streaming=True)\n",
    "    sentences = []\n",
    "    \n",
    "    for example in dataset:\n",
    "        for sentence in example['text'].split('.'):\n",
    "            sentence = sentence.strip()\n",
    "            words = sentence.split()\n",
    "            if min_length <= len(words) <= max_length:\n",
    "                truncate_point = random.randint(1, len(words) - 1)  # Ensure at least one word remains\n",
    "                truncated_sentence = ' '.join(words[:truncate_point])\n",
    "                sentences.append(truncated_sentence)\n",
    "                \n",
    "                if len(sentences) >= num_sentences:\n",
    "                    random.shuffle(sentences)\n",
    "                    return sentences[:num_sentences]\n",
    "    \n",
    "    # If we couldn't find enough sentences, shuffle and return what we have\n",
    "    random.shuffle(sentences)\n",
    "    return sentences[:num_sentences]\n",
    "\n",
    "def calculate_r_score_for_sentence(model, sae, sentence, target_layer, k=5, n_steps=30):\n",
    "    input_ids = model.to_tokens(sentence, prepend_bos=True)\n",
    "    r_score, _, _,_ = compute_r_score(model, sae, input_ids, target_layer, k, n_steps)\n",
    "    return r_score\n",
    "\n",
    "def compute_average_r_score(model, sae_config, sentences):\n",
    "    sae_name, num_features = sae_config\n",
    "    target_layer = f\"blocks.8.hook_resid_pre_{num_features}\"\n",
    "\n",
    "    sae, _, _ = SAE.from_pretrained(\n",
    "        release=sae_name,\n",
    "        sae_id=target_layer,\n",
    "        device=\"cuda:0\"\n",
    "    )\n",
    "\n",
    "    r_scores = []\n",
    "    for sentence in tqdm(sentences, desc=f\"Processing {num_features} features\"):\n",
    "        r_score = calculate_r_score_for_sentence(model, sae, sentence, \"blocks.8.hook_resid_pre\").mean().item()\n",
    "        r_scores.append(r_score)\n",
    "\n",
    "    avg_r_score = np.mean(r_scores)\n",
    "    std_r_score = np.std(r_scores)\n",
    "\n",
    "    # Clear CUDA cache and delete SAE to free up memory\n",
    "    del sae\n",
    "    torch.cuda.empty_cache()\n",
    "    gc.collect()\n",
    "\n",
    "    return avg_r_score, std_r_score\n",
    "\n",
    "def plot_r_scores(r_scores, r_score_stds):\n",
    "    plt.figure(figsize=(12, 6))\n",
    "    feature_sizes = [config[1] for config in SAE_CONFIGS]\n",
    "    \n",
    "    plt.errorbar(feature_sizes, r_scores, yerr=r_score_stds, fmt='o-', capsize=5)\n",
    "    plt.xscale('log')\n",
    "    plt.xlabel('Number of SAE Features')\n",
    "    plt.ylabel('Average R Score')\n",
    "    plt.title('Average R Score vs SAE Size for Layer 8')\n",
    "    plt.grid(True, which='both', linestyle='--', linewidth=0.5)\n",
    "    plt.tight_layout()\n",
    "    plt.savefig('r_scores_vs_sae_size_layer8.png', dpi=300)\n",
    "    plt.show()\n",
    "\n",
    "def main():\n",
    "    model = HookedTransformer.from_pretrained(\"gpt2-small\").to('cuda')\n",
    "\n",
    "    sentences = generate_sentences(num_sentences=10)  \n",
    "    r_scores = []\n",
    "    r_score_stds = []\n",
    "\n",
    "    for sae_config in SAE_CONFIGS:\n",
    "        avg_r_score, std_r_score = compute_average_r_score(model, sae_config, sentences)\n",
    "        r_scores.append(avg_r_score)\n",
    "        r_score_stds.append(std_r_score)\n",
    "\n",
    "    plot_r_scores(r_scores, r_score_stds)\n",
    "\n",
    "    # Print results\n",
    "    print(\"\\nResults:\")\n",
    "    for (_, num_features), avg_score, std_score in zip(SAE_CONFIGS, r_scores, r_score_stds):\n",
    "        print(f\"SAE Size: {num_features}, Avg R Score: {avg_score:.4f} ± {std_score:.4f}\")\n",
    "\n",
    "if __name__ == \"__main__\":\n",
    "    main()"
   ]
  }
 ],
 "metadata": {
  "kernelspec": {
   "display_name": "Python 3",
   "language": "python",
   "name": "python3"
  },
  "language_info": {
   "codemirror_mode": {
    "name": "ipython",
    "version": 3
   },
   "file_extension": ".py",
   "mimetype": "text/x-python",
   "name": "python",
   "nbconvert_exporter": "python",
   "pygments_lexer": "ipython3",
   "version": "3.10.12"
  }
 },
 "nbformat": 4,
 "nbformat_minor": 2
}
